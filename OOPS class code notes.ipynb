{
 "cells": [
  {
   "cell_type": "markdown",
   "id": "2d93544a",
   "metadata": {},
   "source": [
    "## class 22th october 2024"
   ]
  },
  {
   "cell_type": "markdown",
   "id": "f13215d1",
   "metadata": {},
   "source": [
    "## OOPS IN PYTHON"
   ]
  },
  {
   "cell_type": "code",
   "execution_count": 1,
   "id": "5f8e7169",
   "metadata": {},
   "outputs": [
    {
     "name": "stdout",
     "output_type": "stream",
     "text": [
      "Dog class\n",
      "Buddy says woof!\n",
      "Buddy is 3 years old.\n",
      "Charlie says woof!\n",
      "Charlie is 5 years old.\n",
      "canis familiaries\n",
      "canis familiaries\n",
      "Buddy is 3 years old.\n",
      "\n",
      "Cat class\n",
      "Buddy says meow!\n",
      "Buddy is 3 years old.\n",
      "Charlie says meow!\n",
      "Charlie is 5 years old.\n",
      "cat species\n",
      "cat species\n",
      "Charlie is 5 years old.\n"
     ]
    }
   ],
   "source": [
    "class Animal:\n",
    "    def __init__(self,name,age):\n",
    "        self.name=name\n",
    "        #self.__age=age  (Private property)\n",
    "        self.age=age\n",
    "    def get_age(self):\n",
    "        return f\"{self.name} is {self.age} years old.\"\n",
    "    def __str__(self): #Return meaningful output when someone prints a object\n",
    "        return f\"{self.name} is {self.age} years old.\"\n",
    "class Dog(Animal):\n",
    "    species=\"canis familiaries\"\n",
    "    def bark(self):\n",
    "        return f\"{self.name} says woof!\"\n",
    "    \n",
    "    \n",
    "class Cat(Animal):\n",
    "    species=\"cat species\"\n",
    "    def mew(self):\n",
    "        return f\"{self.name} says meow!\"\n",
    "\n",
    "print(\"Dog class\")\n",
    "dog1=Dog(\"Buddy\",3)\n",
    "dog2=Dog(\"Charlie\",5)\n",
    "print(dog1.bark())\n",
    "print(dog1.get_age())\n",
    "print(dog2.bark())\n",
    "print(dog2.get_age())\n",
    "print(dog1.species)\n",
    "print(dog2.species)\n",
    "#print(dog1.__age)\n",
    "print(dog1)\n",
    "\n",
    "print()\n",
    "print(\"Cat class\")\n",
    "\n",
    "cat1=Cat(\"Buddy\",3)\n",
    "cat2=Cat(\"Charlie\",5)\n",
    "print(cat1.mew())\n",
    "print(cat1.get_age())\n",
    "print(cat2.mew())\n",
    "print(cat2.get_age())\n",
    "print(cat1.species)\n",
    "print(cat2.species)\n",
    "#print(cat1.__age)\n",
    "print(cat2)\n",
    "#print(cat1._str_())"
   ]
  },
  {
   "cell_type": "code",
   "execution_count": 4,
   "id": "4cf521b5",
   "metadata": {},
   "outputs": [],
   "source": [
    "class Animal:\n",
    "    def __init__(self,name,age):\n",
    "        self.name=name\n",
    "        #self.__age=age  (Private property)\n",
    "        self.age=age\n",
    "    def get_age(self):\n",
    "        return f\"{self.name} is {self.age} years old.\"\n",
    "    def __str__(self): #Return meaningful output when someone prints a object\n",
    "        return f\"{self.name} is {self.age} years old.\""
   ]
  },
  {
   "cell_type": "code",
   "execution_count": 5,
   "id": "e76c5510",
   "metadata": {},
   "outputs": [
    {
     "ename": "ModuleNotFoundError",
     "evalue": "No module named 'animal'",
     "output_type": "error",
     "traceback": [
      "\u001b[1;31m---------------------------------------------------------------------------\u001b[0m",
      "\u001b[1;31mModuleNotFoundError\u001b[0m                       Traceback (most recent call last)",
      "Cell \u001b[1;32mIn[5], line 1\u001b[0m\n\u001b[1;32m----> 1\u001b[0m \u001b[38;5;28;01mfrom\u001b[39;00m \u001b[38;5;21;01manimal\u001b[39;00m \u001b[38;5;28;01mimport\u001b[39;00m Animal\n\u001b[0;32m      2\u001b[0m \u001b[38;5;28;01mclass\u001b[39;00m \u001b[38;5;21;01mCat\u001b[39;00m(Animal):\n\u001b[0;32m      3\u001b[0m     species\u001b[38;5;241m=\u001b[39m\u001b[38;5;124m\"\u001b[39m\u001b[38;5;124mcat species\u001b[39m\u001b[38;5;124m\"\u001b[39m\n",
      "\u001b[1;31mModuleNotFoundError\u001b[0m: No module named 'animal'"
     ]
    }
   ],
   "source": [
    "from animal import Animal\n",
    "class Cat(Animal):\n",
    "    species=\"cat species\"\n",
    "    def mew(self):\n",
    "        return f\"{self.name} says meow!\""
   ]
  },
  {
   "cell_type": "code",
   "execution_count": 6,
   "id": "fbc057f4",
   "metadata": {},
   "outputs": [
    {
     "ename": "ModuleNotFoundError",
     "evalue": "No module named 'animal'",
     "output_type": "error",
     "traceback": [
      "\u001b[1;31m---------------------------------------------------------------------------\u001b[0m",
      "\u001b[1;31mModuleNotFoundError\u001b[0m                       Traceback (most recent call last)",
      "Cell \u001b[1;32mIn[6], line 1\u001b[0m\n\u001b[1;32m----> 1\u001b[0m \u001b[38;5;28;01mfrom\u001b[39;00m \u001b[38;5;21;01manimal\u001b[39;00m \u001b[38;5;28;01mimport\u001b[39;00m Animal\n\u001b[0;32m      3\u001b[0m \u001b[38;5;28;01mclass\u001b[39;00m \u001b[38;5;21;01mDog\u001b[39;00m(Animal):\n\u001b[0;32m      4\u001b[0m     species\u001b[38;5;241m=\u001b[39m\u001b[38;5;124m\"\u001b[39m\u001b[38;5;124mcanis familiaries\u001b[39m\u001b[38;5;124m\"\u001b[39m\n",
      "\u001b[1;31mModuleNotFoundError\u001b[0m: No module named 'animal'"
     ]
    }
   ],
   "source": [
    "from animal import Animal\n",
    "\n",
    "class Dog(Animal):\n",
    "    species=\"canis familiaries\"\n",
    "    def bark(self):\n",
    "        return f\"{self.name} says woof!\""
   ]
  },
  {
   "cell_type": "code",
   "execution_count": 3,
   "id": "2df2d8f6",
   "metadata": {},
   "outputs": [
    {
     "ename": "ModuleNotFoundError",
     "evalue": "No module named 'dog'",
     "output_type": "error",
     "traceback": [
      "\u001b[1;31m---------------------------------------------------------------------------\u001b[0m",
      "\u001b[1;31mModuleNotFoundError\u001b[0m                       Traceback (most recent call last)",
      "Cell \u001b[1;32mIn[3], line 1\u001b[0m\n\u001b[1;32m----> 1\u001b[0m \u001b[38;5;28;01mfrom\u001b[39;00m \u001b[38;5;21;01mdog\u001b[39;00m \u001b[38;5;28;01mimport\u001b[39;00m Dog\n\u001b[0;32m      2\u001b[0m \u001b[38;5;28;01mfrom\u001b[39;00m \u001b[38;5;21;01mcat\u001b[39;00m \u001b[38;5;28;01mimport\u001b[39;00m Cat\n\u001b[0;32m      4\u001b[0m \u001b[38;5;28mprint\u001b[39m(\u001b[38;5;124m\"\u001b[39m\u001b[38;5;124mDog class\u001b[39m\u001b[38;5;124m\"\u001b[39m)\n",
      "\u001b[1;31mModuleNotFoundError\u001b[0m: No module named 'dog'"
     ]
    }
   ],
   "source": [
    "from dog import Dog\n",
    "from cat import Cat\n",
    "\n",
    "print(\"Dog class\")\n",
    "dog1=Dog(\"Buddy\",3)\n",
    "dog2=Dog(\"Charlie\",5)\n",
    "print(dog1.bark())\n",
    "print(dog1.get_age())\n",
    "print(dog2.bark())\n",
    "print(dog2.get_age())\n",
    "print(dog1.species)\n",
    "print(dog2.species)\n",
    "#print(dog1.__age)\n",
    "print(dog1)\n",
    "print()\n",
    "print(\"Cat class\")\n",
    "cat1=Cat(\"Buddy\",3)\n",
    "cat2=Cat(\"Charlie\",5)\n",
    "print(cat1.mew())\n",
    "print(cat1.get_age())\n",
    "print(cat2.mew())\n",
    "print(cat2.get_age())\n",
    "print(cat1.species)\n",
    "print(cat2.species)\n",
    "#print(cat1.__age)\n",
    "print(cat2)\n",
    "#print(cat1._str_())"
   ]
  },
  {
   "cell_type": "code",
   "execution_count": null,
   "id": "abf3e97a",
   "metadata": {},
   "outputs": [],
   "source": []
  },
  {
   "cell_type": "code",
   "execution_count": null,
   "id": "28b8b8b0",
   "metadata": {},
   "outputs": [],
   "source": []
  }
 ],
 "metadata": {
  "kernelspec": {
   "display_name": "Python 3 (ipykernel)",
   "language": "python",
   "name": "python3"
  },
  "language_info": {
   "codemirror_mode": {
    "name": "ipython",
    "version": 3
   },
   "file_extension": ".py",
   "mimetype": "text/x-python",
   "name": "python",
   "nbconvert_exporter": "python",
   "pygments_lexer": "ipython3",
   "version": "3.10.9"
  }
 },
 "nbformat": 4,
 "nbformat_minor": 5
}
