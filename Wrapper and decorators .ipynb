{
 "cells": [
  {
   "cell_type": "markdown",
   "id": "7b026cca",
   "metadata": {},
   "source": [
    "# class held on 04-10-2024"
   ]
  },
  {
   "cell_type": "markdown",
   "id": "2c85fa81",
   "metadata": {},
   "source": [
    "# WRAPPER and Decorators"
   ]
  },
  {
   "cell_type": "markdown",
   "id": "1072e410",
   "metadata": {},
   "source": [
    "##  write a program that take one input parameter and evaluates an expression a=n*10 ,for all values between 0 to n\n"
   ]
  },
  {
   "cell_type": "code",
   "execution_count": 6,
   "id": "e6705d5f",
   "metadata": {},
   "outputs": [
    {
     "name": "stdout",
     "output_type": "stream",
     "text": [
      "enter the number1000000\n",
      "The start time is 1728010801.568295\n",
      "The end time is 1728010801.6710303\n"
     ]
    }
   ],
   "source": [
    "import time\n",
    "\n",
    "def value(n):\n",
    "    for i in range(0,n+1):\n",
    "        a=i*10\n",
    "#         print(a)\n",
    "\n",
    "x= int(input(\"enter the number\"))\n",
    "start_time=time.time()\n",
    "print(f\"The start time is {start_time}\")\n",
    "value(x)\n",
    "end_time=time.time()\n",
    "print(f\"The end time is {end_time}\")\n",
    "\n",
    "# estimate the time taken by this function  "
   ]
  },
  {
   "cell_type": "code",
   "execution_count": null,
   "id": "00fd612b",
   "metadata": {},
   "outputs": [],
   "source": []
  },
  {
   "cell_type": "code",
   "execution_count": 8,
   "id": "a5a6df78",
   "metadata": {},
   "outputs": [
    {
     "ename": "SyntaxError",
     "evalue": "invalid non-printable character U+00A0 (2345690671.py, line 19)",
     "output_type": "error",
     "traceback": [
      "\u001b[1;36m  Cell \u001b[1;32mIn[8], line 19\u001b[1;36m\u001b[0m\n\u001b[1;33m    wrapper(eva,n)\u001b[0m\n\u001b[1;37m    ^\u001b[0m\n\u001b[1;31mSyntaxError\u001b[0m\u001b[1;31m:\u001b[0m invalid non-printable character U+00A0\n"
     ]
    }
   ],
   "source": [
    " #write a function that take one input parameter (n) and evaluates an expression  a=n*10,for all values between 0 to n\n",
    "import time\n",
    "ns=[12313212,232211532,12545332,5448446451]\n",
    "n=10000\n",
    "def eva(n):\n",
    "    for i in range (0,n):\n",
    "        a=i*10\n",
    "    print (a)\n",
    "# def wrapper(fun,n):        \n",
    "def wrapper(fun,args,**kwargs):\n",
    "    start_time=time.time()*100000\n",
    "\n",
    "    fun(*args,*kwargs)\n",
    "\n",
    "    end_time=time.time()* 1000000\n",
    "    print(f\" For n={n} \\n Execution time is {end_time-start_time} micro second\")\n",
    "    \n",
    "for n in ns:\n",
    "    wrapper(eva,n)"
   ]
  },
  {
   "cell_type": "code",
   "execution_count": null,
   "id": "b344e4e7",
   "metadata": {},
   "outputs": [],
   "source": []
  },
  {
   "cell_type": "code",
   "execution_count": null,
   "id": "6d13bfc9",
   "metadata": {},
   "outputs": [],
   "source": []
  }
 ],
 "metadata": {
  "kernelspec": {
   "display_name": "Python 3 (ipykernel)",
   "language": "python",
   "name": "python3"
  },
  "language_info": {
   "codemirror_mode": {
    "name": "ipython",
    "version": 3
   },
   "file_extension": ".py",
   "mimetype": "text/x-python",
   "name": "python",
   "nbconvert_exporter": "python",
   "pygments_lexer": "ipython3",
   "version": "3.10.9"
  }
 },
 "nbformat": 4,
 "nbformat_minor": 5
}
