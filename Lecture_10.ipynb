{
 "cells": [
  {
   "cell_type": "markdown",
   "id": "0eb39359",
   "metadata": {},
   "source": [
    "# class 13-09-2024 "
   ]
  },
  {
   "cell_type": "markdown",
   "id": "422c5a5d",
   "metadata": {},
   "source": [
    "## REVISION CODE OF Previous class and Exception Handling"
   ]
  },
  {
   "cell_type": "code",
   "execution_count": 2,
   "id": "2e189234",
   "metadata": {},
   "outputs": [
    {
     "data": {
      "text/plain": [
       "['124@stu.upes.ac.in',\n",
       " '5324@stu.upes.ac.in',\n",
       " '634@stu.upes.ac.in',\n",
       " '644654@stu.upes.ac.in']"
      ]
     },
     "execution_count": 2,
     "metadata": {},
     "output_type": "execute_result"
    }
   ],
   "source": [
    "sapid=[124,5324,634,644654]\n",
    "def id2email(id):\n",
    "    # return str(id) +\"@stu.upes.ac.in\"\n",
    "    return str(id)+\"@stu.upes.ac.in\"\n",
    "\n",
    "email=[]\n",
    "\n",
    "for id in sapid:\n",
    "    email1=id2email(id)\n",
    "    email.append(email1)\n",
    "\n",
    "list_of_email=email\n",
    "list_of_email  # list which give email in list format"
   ]
  },
  {
   "cell_type": "code",
   "execution_count": 3,
   "id": "67e68aca",
   "metadata": {},
   "outputs": [
    {
     "data": {
      "text/plain": [
       "['124@stu.upes.ac.in',\n",
       " '5324@stu.upes.ac.in',\n",
       " '634@stu.upes.ac.in',\n",
       " '644654@stu.upes.ac.in']"
      ]
     },
     "execution_count": 3,
     "metadata": {},
     "output_type": "execute_result"
    }
   ],
   "source": [
    "# using map function\n",
    "sapid=[124,5324,634,644654]\n",
    "def id2email(id):\n",
    "    # return str(id) +\"@stu.upes.ac.in\"\n",
    "    return str(id)+\"@stu.upes.ac.in\"\n",
    "\n",
    "\n",
    "list_of_email=list(map(id2email,sapid))\n",
    "list_of_email"
   ]
  },
  {
   "cell_type": "code",
   "execution_count": 5,
   "id": "59228177",
   "metadata": {},
   "outputs": [
    {
     "data": {
      "text/plain": [
       "['124@stu.upes.ac.in',\n",
       " '5324@stu.upes.ac.in',\n",
       " '634@stu.upes.ac.in',\n",
       " '644654@stu.upes.ac.in']"
      ]
     },
     "execution_count": 5,
     "metadata": {},
     "output_type": "execute_result"
    }
   ],
   "source": [
    "# using map and lambda function\n",
    "\n",
    "\n",
    "sapid=[124,5324,634,644654]\n",
    "\n",
    "list_of_email=list(map(lambda id:str(id) +\"@stu.upes.ac.in\",sapid))\n",
    "list_of_email"
   ]
  },
  {
   "cell_type": "code",
   "execution_count": 6,
   "id": "d36da447",
   "metadata": {},
   "outputs": [
    {
     "data": {
      "text/plain": [
       "[': 124 #stu.upes.ac.in',\n",
       " ': 5324 #stu.upes.ac.in',\n",
       " ': 634 #stu.upes.ac.in',\n",
       " ': 644654 #stu.upes.ac.in']"
      ]
     },
     "execution_count": 6,
     "metadata": {},
     "output_type": "execute_result"
    }
   ],
   "source": [
    "# using list comprehension\n",
    "\n",
    "sapid=[124,5324,634,644654]\n",
    "list_of_email=[f\": {id} #stu.upes.ac.in\" for id in sapid]\n",
    "list_of_email"
   ]
  },
  {
   "cell_type": "code",
   "execution_count": null,
   "id": "ce103580",
   "metadata": {},
   "outputs": [],
   "source": []
  },
  {
   "cell_type": "markdown",
   "id": "06e68a80",
   "metadata": {},
   "source": [
    "# Exception Handling"
   ]
  },
  {
   "cell_type": "code",
   "execution_count": 7,
   "id": "18a342ca",
   "metadata": {},
   "outputs": [
    {
     "name": "stdout",
     "output_type": "stream",
     "text": [
      "Value of a does not exist\n"
     ]
    }
   ],
   "source": [
    "# try catch in python for error handling\n",
    "\n",
    "\n",
    "\n",
    "try:\n",
    "    print(f\"Value of {a}\")\n",
    "    print(f\"Value of {a}\")\n",
    "except:\n",
    "    print(f\"Value of a does not exist\")"
   ]
  },
  {
   "cell_type": "code",
   "execution_count": null,
   "id": "81f9e04d",
   "metadata": {},
   "outputs": [],
   "source": [
    "\n",
    "\n"
   ]
  },
  {
   "cell_type": "markdown",
   "id": "f6f5330a",
   "metadata": {},
   "source": [
    "## # write a program that take 2 place from user and returns division of first from second"
   ]
  },
  {
   "cell_type": "code",
   "execution_count": 13,
   "id": "83d543ec",
   "metadata": {},
   "outputs": [
    {
     "name": "stdout",
     "output_type": "stream",
     "text": [
      "Input 1->4\n",
      "Input 2->5\n",
      "Division of 4/5 is 0.8\n"
     ]
    }
   ],
   "source": [
    "\n",
    "a=int(input(\"Input 1->\"))\n",
    "b=int(input(\"Input 2->\"))\n",
    "\n",
    "def div(a,b):\n",
    "    assert b!=0\n",
    "    return a/b\n",
    "\n",
    "print(f\"Division of {a}/{b} is {div(a,b)}\")"
   ]
  },
  {
   "cell_type": "code",
   "execution_count": null,
   "id": "552c2016",
   "metadata": {},
   "outputs": [],
   "source": []
  },
  {
   "cell_type": "code",
   "execution_count": null,
   "id": "980c7a0c",
   "metadata": {},
   "outputs": [],
   "source": []
  },
  {
   "cell_type": "code",
   "execution_count": null,
   "id": "23000537",
   "metadata": {},
   "outputs": [],
   "source": []
  }
 ],
 "metadata": {
  "kernelspec": {
   "display_name": "Python 3 (ipykernel)",
   "language": "python",
   "name": "python3"
  },
  "language_info": {
   "codemirror_mode": {
    "name": "ipython",
    "version": 3
   },
   "file_extension": ".py",
   "mimetype": "text/x-python",
   "name": "python",
   "nbconvert_exporter": "python",
   "pygments_lexer": "ipython3",
   "version": "3.10.9"
  }
 },
 "nbformat": 4,
 "nbformat_minor": 5
}
