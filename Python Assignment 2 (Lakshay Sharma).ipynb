{
 "cells": [
  {
   "cell_type": "markdown",
   "id": "0d19a722",
   "metadata": {},
   "source": [
    "# Python assignment 2\n",
    "\n",
    "## COURSE :PYTHON PROGRAMMING\n",
    "\n",
    "## NAME : LAKSHAY SHARMA\n",
    "\n",
    "## SAP ID -> 590010775\n",
    "\n",
    "## Faculty_Name -> Professor Prateek Gautam\n"
   ]
  },
  {
   "cell_type": "code",
   "execution_count": null,
   "id": "b6b07f77",
   "metadata": {},
   "outputs": [],
   "source": []
  },
  {
   "cell_type": "markdown",
   "id": "caf496a7",
   "metadata": {},
   "source": [
    "# 1. Basic function implementation"
   ]
  },
  {
   "cell_type": "markdown",
   "id": "a1727283",
   "metadata": {},
   "source": [
    "### Write a function  greet that takes two arguments ; name(a string) and greeting (a string with a default value of \"Hello\".This function should return  a greeting message\n",
    "\n",
    "greet(\"Alice\")     # Output: \"Hello Alice\"\n",
    "\n",
    "\n",
    "greet(\"Bob\", \"Good Morning\")  # Output: \"Good Morning Bob\"\n"
   ]
  },
  {
   "cell_type": "code",
   "execution_count": 1,
   "id": "d412bf7e",
   "metadata": {},
   "outputs": [
    {
     "name": "stdout",
     "output_type": "stream",
     "text": [
      "Hello Alice\n",
      "Good Morning Bob\n"
     ]
    }
   ],
   "source": [
    "def greet(name, greeting=\"Hello\"):\n",
    "    return f\"{greeting} {name}\"\n",
    "\n",
    "# calling the function \n",
    "print(greet(\"Alice\"))          \n",
    "print(greet(\"Bob\", \"Good Morning\"))\n"
   ]
  },
  {
   "cell_type": "markdown",
   "id": "05bf0ebb",
   "metadata": {},
   "source": [
    "# 2. Named Arguments"
   ]
  },
  {
   "cell_type": "markdown",
   "id": "c5549f36",
   "metadata": {},
   "source": [
    "##  Create a function create_profile  that takes arguments for name, age, and city  as named arguments . the function should return  a string like \"Name\":alice,age:25,city:New York. Ensure that the age  arguments  has a default value of 18\n",
    "\n",
    "create_profile(name=\"John\", city=\"Chicago\")  # Output: \"Name: John, Age: 18, City: Chicago\"\n",
    "\n",
    "create_profile(name=\"Emma\", age=22, city=\"Los Angeles\")  # Output: \"Name: Emma, Age: 22, City: Los Angeles\"\n"
   ]
  },
  {
   "cell_type": "code",
   "execution_count": 7,
   "id": "bfc6768a",
   "metadata": {},
   "outputs": [
    {
     "name": "stdout",
     "output_type": "stream",
     "text": [
      "Name: lakshay, Age: 18, City: Almora\n",
      "Name: Barkha, Age: 23, City: Bihar\n"
     ]
    }
   ],
   "source": [
    "def create_profile(name, city, age=18):\n",
    "    return f\"Name: {name}, Age: {age}, City: {city}\"\n",
    "\n",
    "# Function call karenge direct \n",
    "print(create_profile(name=\"lakshay\", city=\"Almora\"))  \n",
    "print(create_profile(name=\"Barkha\", age=23, city=\"Bihar\")) \n"
   ]
  },
  {
   "cell_type": "code",
   "execution_count": null,
   "id": "b2205ab3",
   "metadata": {},
   "outputs": [],
   "source": []
  },
  {
   "cell_type": "markdown",
   "id": "f2567340",
   "metadata": {},
   "source": [
    "# 3 **using *args and kwargs:"
   ]
  },
  {
   "cell_type": "markdown",
   "id": "dac8a2b5",
   "metadata": {},
   "source": [
    "## Write a function  sum_number that takes any number in positional arguments(args) and keyword arguments(*kwargs) . It should\n",
    "\n",
    "## 1. Return  the sum of all *args if they are  numbers\n",
    "## 2. Return a dictionary all keywords arguments\n",
    "\n",
    "sum_numbers(1, 2, 3)  # Output: 6\n",
    "\n",
    "sum_numbers(1, 2, x=4, y=5)  # Output: (6, {'x': 4, 'y': 5})\n"
   ]
  },
  {
   "cell_type": "code",
   "execution_count": 8,
   "id": "dade5972",
   "metadata": {},
   "outputs": [
    {
     "name": "stdout",
     "output_type": "stream",
     "text": [
      "Sum: (6, {})\n",
      "Keyword: (3, {'x': 4, 'y': 5})\n"
     ]
    }
   ],
   "source": [
    "def sum_numbers(*args, **kwargs):\n",
    "    total_sum = 0\n",
    "    \n",
    "    for arg in args:\n",
    "        # Check if the argument is a number (int or float)\n",
    "        if isinstance(arg, (int, float)):\n",
    "            # agar number Integer hai toh add karna hai\n",
    "            total_sum += arg\n",
    "\n",
    "    dict1 = {}  # blank diictionary\n",
    "    for key in kwargs:\n",
    "        dict1[key] = kwargs[key]\n",
    "\n",
    "    return total_sum, dict1\n",
    "\n",
    "\n",
    "print(\"Sum:\",sum_numbers(1, 2, 3))  \n",
    "print(\"Keyword:\" ,sum_numbers(1, 2, x=4, y=5)) \n"
   ]
  },
  {
   "cell_type": "code",
   "execution_count": null,
   "id": "b0aebf09",
   "metadata": {},
   "outputs": [],
   "source": []
  },
  {
   "cell_type": "markdown",
   "id": "84dc514a",
   "metadata": {},
   "source": [
    "#  4. Lambdas and Map :"
   ]
  },
  {
   "cell_type": "markdown",
   "id": "0020fcdf",
   "metadata": {},
   "source": [
    "## Write a function that uses map and a lambda to return a list where each element is squared"
   ]
  },
  {
   "cell_type": "code",
   "execution_count": 9,
   "id": "525cc99b",
   "metadata": {},
   "outputs": [
    {
     "name": "stdout",
     "output_type": "stream",
     "text": [
      "[1, 4, 9, 16, 25, 36, 49, 64, 81]\n"
     ]
    }
   ],
   "source": [
    "def square_elements(val):\n",
    "    return list(map(lambda x: x**2, val))\n",
    "\n",
    "n = [1,2,3,4,5,6,7,8,9]\n",
    "input1 = square_elements(n)\n",
    "print(input1)"
   ]
  },
  {
   "cell_type": "code",
   "execution_count": null,
   "id": "4175dfde",
   "metadata": {},
   "outputs": [],
   "source": []
  },
  {
   "cell_type": "markdown",
   "id": "8dcab8de",
   "metadata": {},
   "source": [
    "# 5. Filter and Lambdas :"
   ]
  },
  {
   "cell_type": "markdown",
   "id": "318bff49",
   "metadata": {},
   "source": [
    "## Write a function that filters out all odd numbers from a list using filter and a lambda function"
   ]
  },
  {
   "cell_type": "code",
   "execution_count": 10,
   "id": "0f4e27d4",
   "metadata": {},
   "outputs": [
    {
     "name": "stdout",
     "output_type": "stream",
     "text": [
      "[2, 4, 6, 8, 14, 60]\n"
     ]
    }
   ],
   "source": [
    "def filter_odds(val):\n",
    "    return list(filter(lambda x: x % 2 == 0, val))\n",
    "\n",
    "n = [1,2,3,4,5,6,7,8,9,14,60]\n",
    "filtered_numbers = filter_odds(n)\n",
    "print(filtered_numbers)"
   ]
  },
  {
   "cell_type": "code",
   "execution_count": null,
   "id": "b6d52dd0",
   "metadata": {},
   "outputs": [],
   "source": []
  },
  {
   "cell_type": "markdown",
   "id": "821ba75c",
   "metadata": {},
   "source": [
    "# 6. Basic List Comprehension :"
   ]
  },
  {
   "cell_type": "markdown",
   "id": "4c966439",
   "metadata": {},
   "source": [
    "## Create a list comprehension that takes a list of numbers and returns a list of their squares"
   ]
  },
  {
   "cell_type": "code",
   "execution_count": 11,
   "id": "c08bf52b",
   "metadata": {},
   "outputs": [
    {
     "name": "stdout",
     "output_type": "stream",
     "text": [
      "[4, 16, 25, 49, 64]\n"
     ]
    }
   ],
   "source": [
    "def square_elements(val):\n",
    "    return [x**2 for x in val]\n",
    "\n",
    "n = [2,4,5,7,8,]\n",
    "square = square_elements(n)\n",
    "print(square)"
   ]
  },
  {
   "cell_type": "code",
   "execution_count": null,
   "id": "82c402e5",
   "metadata": {},
   "outputs": [],
   "source": []
  },
  {
   "cell_type": "markdown",
   "id": "e8c4f7d6",
   "metadata": {},
   "source": [
    "# 7.List Comprehension with Condition :"
   ]
  },
  {
   "cell_type": "markdown",
   "id": "c17f2833",
   "metadata": {},
   "source": [
    " ## Use a list comprehension to create a list of even numbers from 1 to 20"
   ]
  },
  {
   "cell_type": "code",
   "execution_count": 12,
   "id": "f9fc36ad",
   "metadata": {},
   "outputs": [
    {
     "name": "stdout",
     "output_type": "stream",
     "text": [
      "[2, 4, 6, 8, 10, 12, 14, 16, 18, 20]\n"
     ]
    }
   ],
   "source": [
    "even_numbers = [x for x in range(1,21) if x%2 == 0]\n",
    "\n",
    "print(even_numbers)"
   ]
  },
  {
   "cell_type": "markdown",
   "id": "28278c3b",
   "metadata": {},
   "source": [
    "# 8. Using os and time Modules :"
   ]
  },
  {
   "cell_type": "markdown",
   "id": "8ddae589",
   "metadata": {},
   "source": [
    "## Write a function file_operations that creates a directory named \"test_folder\" using os.makedirs(). Then, pause the execution for 3 seconds using time.sleep(), and finally, delete the directory using os.rmdir()"
   ]
  },
  {
   "cell_type": "code",
   "execution_count": 13,
   "id": "da92a143",
   "metadata": {},
   "outputs": [
    {
     "name": "stdout",
     "output_type": "stream",
     "text": [
      "Directory 'Python' created.\n",
      "Paused for 3 seconds.\n",
      "Directory 'Python' deleted.\n"
     ]
    }
   ],
   "source": [
    "import os\n",
    "import time\n",
    "\n",
    "def file_operations():\n",
    "    \n",
    "    os.makedirs(\"Python\")\n",
    "    print(\"Directory 'Python' created.\")\n",
    "    \n",
    "    time.sleep(3)\n",
    "    print(\"Paused for 3 seconds.\")\n",
    "    \n",
    "    os.rmdir(\"Python\")\n",
    "    print(\"Directory 'Python' deleted.\")\n",
    "    \n",
    "file_operations()"
   ]
  },
  {
   "cell_type": "code",
   "execution_count": null,
   "id": "dc0f2a46",
   "metadata": {},
   "outputs": [],
   "source": []
  },
  {
   "cell_type": "markdown",
   "id": "c215e2c2",
   "metadata": {},
   "source": [
    "# 9.  Importing Specific Functions :"
   ]
  },
  {
   "cell_type": "markdown",
   "id": "7a669ea5",
   "metadata": {},
   "source": [
    "## Q. Write a Python script that imports only sleep from the time module and renames it to pause. Use it to pause execution for 2 seconds and print \"Paused execution...\""
   ]
  },
  {
   "cell_type": "code",
   "execution_count": 14,
   "id": "5a5e0b7e",
   "metadata": {},
   "outputs": [
    {
     "name": "stdout",
     "output_type": "stream",
     "text": [
      "Paused execution...\n"
     ]
    }
   ],
   "source": [
    "from time import sleep as pause\n",
    "\n",
    "pause(2)\n",
    "\n",
    "print(\"Paused execution...\")"
   ]
  },
  {
   "cell_type": "code",
   "execution_count": null,
   "id": "7505789d",
   "metadata": {},
   "outputs": [],
   "source": []
  },
  {
   "cell_type": "markdown",
   "id": "e8b2b4b8",
   "metadata": {},
   "source": [
    "# 10. Recursive Function with args and kwargs (Flattening a List) :"
   ]
  },
  {
   "cell_type": "markdown",
   "id": "062579df",
   "metadata": {},
   "source": [
    "## Write a recursive function flatten_list that can flatten a nested list of any depth using args and kwargs"
   ]
  },
  {
   "cell_type": "code",
   "execution_count": 16,
   "id": "e7e3c712",
   "metadata": {},
   "outputs": [
    {
     "name": "stdout",
     "output_type": "stream",
     "text": [
      "[1, 2, 3, 4, 5, 6, 7, 8]\n"
     ]
    }
   ],
   "source": [
    "def flatten_list(*args):\n",
    "    flatten = []\n",
    "    for item in args:\n",
    "        if isinstance(item, list):\n",
    "            flatten.extend(flatten_list(*item))\n",
    "        else:\n",
    "            flatten.append(item)\n",
    "            \n",
    "    return flatten\n",
    "\n",
    "nested_list = [1, [2, [3, 4]], 5, [6, [7, [8]]]]\n",
    "flat_list = flatten_list(*nested_list)\n",
    "print(flat_list)"
   ]
  },
  {
   "cell_type": "code",
   "execution_count": null,
   "id": "2422f6de",
   "metadata": {},
   "outputs": [],
   "source": []
  }
 ],
 "metadata": {
  "kernelspec": {
   "display_name": "Python 3 (ipykernel)",
   "language": "python",
   "name": "python3"
  },
  "language_info": {
   "codemirror_mode": {
    "name": "ipython",
    "version": 3
   },
   "file_extension": ".py",
   "mimetype": "text/x-python",
   "name": "python",
   "nbconvert_exporter": "python",
   "pygments_lexer": "ipython3",
   "version": "3.10.9"
  }
 },
 "nbformat": 4,
 "nbformat_minor": 5
}
