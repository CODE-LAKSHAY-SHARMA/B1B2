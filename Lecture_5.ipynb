{
 "cells": [
  {
   "cell_type": "markdown",
   "id": "3610a662",
   "metadata": {},
   "source": [
    "# Lecture_5 : 30-08-2024"
   ]
  },
  {
   "cell_type": "markdown",
   "id": "799b0728",
   "metadata": {},
   "source": [
    "###  DEEP COPY CONCEPT "
   ]
  },
  {
   "cell_type": "code",
   "execution_count": 3,
   "id": "d7ee6a93",
   "metadata": {},
   "outputs": [
    {
     "name": "stdout",
     "output_type": "stream",
     "text": [
      "BEFORE ANY CHANGE TO A AND B LIST \n",
      "id(A)-> 2567598131520\n",
      "id(B)-> 2567598143040\n",
      "a=>[1, 2, 3, [100, 200], 4, 5, 6]\n",
      "b=>[1, 2, 3, [100, 200], 4, 5, 6]\n",
      "\n",
      "AFTER CHANGES IN A and B LIST \n",
      "a=>[1, 2, 3, [100, 200], 4, 5, 6]\n",
      "b=>[100, 2, 3, [999, 200], 4, 5, 6]\n"
     ]
    }
   ],
   "source": [
    "# help to import the modules \n",
    "from copy import deepcopy\n",
    "\n",
    "a = [1, 2, 3, [100, 200], 4, 5, 6]\n",
    "\n",
    "b = deepcopy(a)  # DEEPCOPY use kar leya direct library m se\n",
    "print(\"BEFORE ANY CHANGE TO A AND B LIST \")\n",
    "print(f\"id(A)-> {id(a)}\")\n",
    "print(f\"id(B)-> {id(b)}\")\n",
    "\n",
    "print(f\"a=>{a}\")\n",
    "print(f\"b=>{b}\")\n",
    "\n",
    "\n",
    "b[0] = 100\n",
    "b[3][0] = 999\n",
    "print()\n",
    "print(\"AFTER CHANGES IN A and B LIST \")\n",
    "\n",
    "print(f\"a=>{a}\")\n",
    "print(f\"b=>{b}\")\n"
   ]
  },
  {
   "cell_type": "code",
   "execution_count": null,
   "id": "b0002963",
   "metadata": {},
   "outputs": [],
   "source": []
  },
  {
   "cell_type": "code",
   "execution_count": 6,
   "id": "bd5713c7",
   "metadata": {},
   "outputs": [],
   "source": [
    "# listA=[2,3,4,[1,3]]\n",
    "# listB=[x for x in listA]\n",
    "# showDetails(listA,listB)\n",
    "\n",
    "# listB[1]=44\n",
    "# listB[3][0]=55\n",
    "# showDetails(listA,listB)"
   ]
  },
  {
   "cell_type": "markdown",
   "id": "ae596b1b",
   "metadata": {},
   "source": [
    "# COPY CONCEPT "
   ]
  },
  {
   "cell_type": "code",
   "execution_count": 8,
   "id": "2492d637",
   "metadata": {},
   "outputs": [
    {
     "name": "stdout",
     "output_type": "stream",
     "text": [
      "id(A)-> 2567598143040\n",
      "id(B)-> 2567634575872\n",
      "a=>[1, 2, 3, 4, 5, 6]\n",
      "b=>[1, 2, 3, 4, 5, 6]\n",
      "\n",
      "a=>[1, 2, 3, 4, 5, 6]\n",
      "b=>[100, 2, 3, 4, 5, 6]\n"
     ]
    }
   ],
   "source": [
    "\"\"\"\n",
    "Shallow Copy and Deep Copy concept in list \n",
    "\"\"\"\n",
    "\n",
    "a = [1, 2, 3, 4, 5, 6]\n",
    "\n",
    "b = (\n",
    "    a.copy()\n",
    ")  # this is not the good method to save the duplicate list, humne sirf memory copy kari hai\n",
    "print(f\"id(A)-> {id(a)}\")\n",
    "print(f\"id(B)-> {id(b)}\")\n",
    "\n",
    "print(f\"a=>{a}\")\n",
    "print(f\"b=>{b}\")\n",
    "\n",
    "# and jab mane b ki index position ki value change kari toh a ki bhi value change ho gai hai\n",
    "b[0] = 100\n",
    "print()\n",
    "print(f\"a=>{a}\")\n",
    "print(f\"b=>{b}\")\n",
    "# NOTE that value of A list also changes at index position 0,\n",
    "# therefore to avoid this we use the concept of shallow copy and deep copy\n",
    "# as done above\n",
    "\n",
    "# DEEP COPY :  nested list ki ID change karna\n"
   ]
  },
  {
   "cell_type": "code",
   "execution_count": null,
   "id": "091eeb80",
   "metadata": {},
   "outputs": [],
   "source": []
  },
  {
   "cell_type": "markdown",
   "id": "82e97a85",
   "metadata": {},
   "source": [
    "# FUNCTION in Python"
   ]
  },
  {
   "cell_type": "code",
   "execution_count": 10,
   "id": "64ebce2f",
   "metadata": {},
   "outputs": [
    {
     "name": "stdout",
     "output_type": "stream",
     "text": [
      "Hello, Alice!\n"
     ]
    }
   ],
   "source": [
    "def greet(name):\n",
    "\n",
    "    \"\"\"Greets a person by their name.\"\"\"\n",
    "    return f\"Hello, {name}!\"\n",
    "\n",
    "message = greet(\"Alice\")\n",
    "print(message) "
   ]
  },
  {
   "cell_type": "markdown",
   "id": "31eaac34",
   "metadata": {},
   "source": [
    "# Write a program to add three number and return it value"
   ]
  },
  {
   "cell_type": "code",
   "execution_count": 16,
   "id": "3afb7c79",
   "metadata": {},
   "outputs": [
    {
     "name": "stdout",
     "output_type": "stream",
     "text": [
      "The Sum of Three number are => 16\n"
     ]
    }
   ],
   "source": [
    "\n",
    "def add(a, b,c):\n",
    "\n",
    "    \n",
    "    return a + b + c  \n",
    "\n",
    "\n",
    "result = add(5, 3,8)\n",
    "print(f\"The Sum of Three number are => {result}\") \n"
   ]
  },
  {
   "cell_type": "code",
   "execution_count": null,
   "id": "4b521ef6",
   "metadata": {},
   "outputs": [],
   "source": []
  },
  {
   "cell_type": "code",
   "execution_count": null,
   "id": "e0f8781d",
   "metadata": {},
   "outputs": [],
   "source": []
  },
  {
   "cell_type": "code",
   "execution_count": 13,
   "id": "c7a7f0ad",
   "metadata": {},
   "outputs": [
    {
     "name": "stdout",
     "output_type": "stream",
     "text": [
      "My name is lakshay, and I am 25 years old.\n",
      "My name is Alice, and I am 30 years old.\n"
     ]
    }
   ],
   "source": [
    "# Keyword Parameter in python\n",
    "\n",
    "def introduce(name, age=25):\n",
    "\n",
    "    \"\"\"Introduces a person with their name and age.\"\"\"\n",
    "    return f\"My name is {name}, and I am {age} years old.\"# Calling with positional arguments\n",
    "\n",
    "\n",
    "print(introduce(\"lakshay\"))  # Output: My name is Bob, and I am 25 years old.Calling with keyword arguments\n",
    "\n",
    "\n",
    "print(introduce(name=\"Alice\", age=30))  # Output: My name is Alice, and I am 30 years old.\n"
   ]
  },
  {
   "cell_type": "code",
   "execution_count": 14,
   "id": "3330db76",
   "metadata": {},
   "outputs": [
    {
     "name": "stdout",
     "output_type": "stream",
     "text": [
      "15\n",
      "60\n"
     ]
    }
   ],
   "source": [
    "# PASSING LIST,TUPLES, DICTIONARY TO THE FUNCTIONS\n",
    "def sum_numbers(numbers):\n",
    "\n",
    "    \"\"\"Sums all the numbers in a collection.\"\"\"\n",
    "    return sum(numbers)# Passing a list to the function\n",
    "\n",
    "\n",
    "result = sum_numbers([1, 2, 3, 4, 5])\n",
    "print(result)  # Output: 15Passing a tuple to the function\n",
    "\n",
    "\n",
    "result = sum_numbers((10, 20, 30))\n",
    "print(result)  # Output: 60\n"
   ]
  },
  {
   "cell_type": "markdown",
   "id": "265bdddb",
   "metadata": {},
   "source": [
    "## Variable Number of Arguments ( args and Kwargs)"
   ]
  },
  {
   "cell_type": "code",
   "execution_count": 22,
   "id": "a54b0f9c",
   "metadata": {},
   "outputs": [],
   "source": [
    "# mandatory variable always come in left side and rest dafualt etc will come on righthand side"
   ]
  },
  {
   "cell_type": "code",
   "execution_count": 19,
   "id": "bb0e162d",
   "metadata": {},
   "outputs": [
    {
     "name": "stdout",
     "output_type": "stream",
     "text": [
      "1\n",
      "2\n",
      "3\n",
      "4\n",
      "name: Alice\n",
      "age: 30\n"
     ]
    }
   ],
   "source": [
    "# if we need some more argument as per the user requirement \n",
    "def print_numbers(*args):\n",
    "\n",
    "    for number in args:\n",
    "        print(number)\n",
    "\n",
    "print_numbers(1, 2, 3, 4)\n",
    "\n",
    "def print_key_value(**kwargs):\n",
    "    for key, value in kwargs.items():\n",
    "        print(f\"{key}: {value}\")\n",
    "\n",
    "\n",
    "print_key_value(name=\"Alice\", age=30)\n"
   ]
  },
  {
   "cell_type": "code",
   "execution_count": 23,
   "id": "9e501372",
   "metadata": {},
   "outputs": [
    {
     "name": "stdout",
     "output_type": "stream",
     "text": [
      "1\n",
      "(2, 3, 4)\n"
     ]
    }
   ],
   "source": [
    "def sum3(a,*args):\n",
    "    print(a)\n",
    "    print(args)\n",
    "    res=a\n",
    "    for i in range(0,len(args)):\n",
    "        res=res+args[i]\n",
    "        \n",
    "    return res\n",
    "\n",
    "res=sum3(1,2,3,4)\n"
   ]
  },
  {
   "cell_type": "code",
   "execution_count": 28,
   "id": "ed023cb2",
   "metadata": {},
   "outputs": [
    {
     "ename": "AttributeError",
     "evalue": "'function' object has no attribute 'doc'",
     "output_type": "error",
     "traceback": [
      "\u001b[1;31m---------------------------------------------------------------------------\u001b[0m",
      "\u001b[1;31mAttributeError\u001b[0m                            Traceback (most recent call last)",
      "Cell \u001b[1;32mIn[28], line 2\u001b[0m\n\u001b[0;32m      1\u001b[0m \u001b[38;5;66;03m# to check what will be there in help status of sum3\u001b[39;00m\n\u001b[1;32m----> 2\u001b[0m help(\u001b[43msum3\u001b[49m\u001b[38;5;241;43m.\u001b[39;49m\u001b[43mdoc\u001b[49m)\n",
      "\u001b[1;31mAttributeError\u001b[0m: 'function' object has no attribute 'doc'"
     ]
    }
   ],
   "source": [
    "# to check what will be there in help status of sum3\n",
    "help(sum3.doc)  \n",
    "\n",
    "# this is not working we will see it later"
   ]
  },
  {
   "cell_type": "code",
   "execution_count": 29,
   "id": "443163c4",
   "metadata": {},
   "outputs": [],
   "source": [
    "dict1={\n",
    "    \"name\":\"lakshay\",\n",
    "    \"batch\":\"B1\",\n",
    "    \"classtime\":\"8:AM\"\n",
    "}\n",
    "\n"
   ]
  },
  {
   "cell_type": "code",
   "execution_count": 39,
   "id": "67d703a1",
   "metadata": {},
   "outputs": [
    {
     "name": "stdout",
     "output_type": "stream",
     "text": [
      "name: lakshay\n",
      "age: 23\n",
      "Job: ML Engineer\n"
     ]
    }
   ],
   "source": [
    "# using keyword argument in python \n",
    "def printdict(**info):\n",
    "    for key, value in info.items():\n",
    "        print(f\"{key}: {value}\")\n",
    "\n",
    "dict1={\n",
    "    \"name\":\"lakshay\",\n",
    "    \"batch\":\"B1\",\n",
    "    \"classtime\":\"8:AM\"\n",
    "}\n",
    "\n",
    "printdict(name=\"lakshay\",age=23,Job=\"ML Engineer\")\n",
    "\n"
   ]
  },
  {
   "cell_type": "code",
   "execution_count": null,
   "id": "9c2bc58d",
   "metadata": {},
   "outputs": [],
   "source": []
  },
  {
   "cell_type": "code",
   "execution_count": null,
   "id": "1766e9c4",
   "metadata": {},
   "outputs": [],
   "source": []
  },
  {
   "cell_type": "code",
   "execution_count": null,
   "id": "e00e89bf",
   "metadata": {},
   "outputs": [],
   "source": []
  },
  {
   "cell_type": "code",
   "execution_count": null,
   "id": "1e015b0d",
   "metadata": {},
   "outputs": [],
   "source": []
  },
  {
   "cell_type": "code",
   "execution_count": null,
   "id": "e13f5c2c",
   "metadata": {},
   "outputs": [],
   "source": []
  },
  {
   "cell_type": "code",
   "execution_count": null,
   "id": "f857f42d",
   "metadata": {},
   "outputs": [],
   "source": []
  }
 ],
 "metadata": {
  "kernelspec": {
   "display_name": "Python 3 (ipykernel)",
   "language": "python",
   "name": "python3"
  },
  "language_info": {
   "codemirror_mode": {
    "name": "ipython",
    "version": 3
   },
   "file_extension": ".py",
   "mimetype": "text/x-python",
   "name": "python",
   "nbconvert_exporter": "python",
   "pygments_lexer": "ipython3",
   "version": "3.10.9"
  }
 },
 "nbformat": 4,
 "nbformat_minor": 5
}
