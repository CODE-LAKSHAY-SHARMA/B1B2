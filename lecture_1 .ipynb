{
 "cells": [
  {
   "cell_type": "markdown",
   "id": "4e5d2363",
   "metadata": {},
   "source": [
    "# Professor Prateek gautam sir : Python programming"
   ]
  },
  {
   "cell_type": "code",
   "execution_count": 1,
   "id": "be257b70",
   "metadata": {},
   "outputs": [
    {
     "data": {
      "text/plain": [
       "4"
      ]
     },
     "execution_count": 1,
     "metadata": {},
     "output_type": "execute_result"
    }
   ],
   "source": [
    "2+2"
   ]
  },
  {
   "cell_type": "markdown",
   "id": "1405fae9",
   "metadata": {},
   "source": [
    "# STRING IN PYTHON"
   ]
  },
  {
   "cell_type": "code",
   "execution_count": 3,
   "id": "e4b53e08",
   "metadata": {},
   "outputs": [
    {
     "name": "stdout",
     "output_type": "stream",
     "text": [
      "lakshaysharma\n"
     ]
    },
    {
     "data": {
      "text/plain": [
       "str"
      ]
     },
     "execution_count": 3,
     "metadata": {},
     "output_type": "execute_result"
    }
   ],
   "source": [
    "# string concept in python \n",
    "\n",
    "mystring=\"lakshaysharma\"\n",
    "print(mystring)\n",
    "type(mystring)"
   ]
  },
  {
   "cell_type": "code",
   "execution_count": 4,
   "id": "54aef531",
   "metadata": {},
   "outputs": [
    {
     "data": {
      "text/plain": [
       "'LAKSHAYSHARMA'"
      ]
     },
     "execution_count": 4,
     "metadata": {},
     "output_type": "execute_result"
    }
   ],
   "source": [
    "mystring.upper()  # yeh function string ko CAPITAL LETTER M convert kar deyga"
   ]
  },
  {
   "cell_type": "code",
   "execution_count": 5,
   "id": "58160e3c",
   "metadata": {},
   "outputs": [
    {
     "data": {
      "text/plain": [
       "'lakshaysharma'"
      ]
     },
     "execution_count": 5,
     "metadata": {},
     "output_type": "execute_result"
    }
   ],
   "source": [
    "mystring.lower()  # string got converted to lower letter "
   ]
  },
  {
   "cell_type": "code",
   "execution_count": 6,
   "id": "2a2f80c4",
   "metadata": {},
   "outputs": [
    {
     "data": {
      "text/plain": [
       "'lbkshbyshbrmb'"
      ]
     },
     "execution_count": 6,
     "metadata": {},
     "output_type": "execute_result"
    }
   ],
   "source": [
    "mystring.replace(\"a\",\"b\")  # jaha par string m A tha woh B se replace ho gaya"
   ]
  },
  {
   "cell_type": "code",
   "execution_count": 8,
   "id": "65fd8715",
   "metadata": {},
   "outputs": [
    {
     "name": "stdout",
     "output_type": "stream",
     "text": [
      "hiclass\n",
      "hi class\n"
     ]
    }
   ],
   "source": [
    "# string concatenation \n",
    "str1=\"hi\"\n",
    "str2=\"class\"\n",
    "print(str1+str2)\n",
    "\n",
    "# agar bich m space print karna hai toh\n",
    "print(str1+\" \"+str2)"
   ]
  },
  {
   "cell_type": "code",
   "execution_count": 9,
   "id": "b04ecb33",
   "metadata": {},
   "outputs": [
    {
     "name": "stdout",
     "output_type": "stream",
     "text": [
      "hihihi\n"
     ]
    }
   ],
   "source": [
    "print(str1 *3)"
   ]
  },
  {
   "cell_type": "code",
   "execution_count": 11,
   "id": "b6351e35",
   "metadata": {},
   "outputs": [
    {
     "name": "stdout",
     "output_type": "stream",
     "text": [
      "True\n"
     ]
    }
   ],
   "source": [
    "# membership function  : to check whether the item is in string or not\n",
    "\n",
    "str1=\"lakshay sharma\"\n",
    "print(\"sharma\"in str1)  # yeh true return karega\n"
   ]
  },
  {
   "cell_type": "code",
   "execution_count": 13,
   "id": "112f57be",
   "metadata": {},
   "outputs": [
    {
     "name": "stdout",
     "output_type": "stream",
     "text": [
      "10\n"
     ]
    }
   ],
   "source": [
    "str3=\"0123456789\"\n",
    "# length check karni hai\n",
    "print(len(str3))"
   ]
  },
  {
   "cell_type": "code",
   "execution_count": 14,
   "id": "c24ad2ea",
   "metadata": {},
   "outputs": [
    {
     "data": {
      "text/plain": [
       "'0'"
      ]
     },
     "execution_count": 14,
     "metadata": {},
     "output_type": "execute_result"
    }
   ],
   "source": [
    "str3[0]"
   ]
  },
  {
   "cell_type": "code",
   "execution_count": 15,
   "id": "50aab2d5",
   "metadata": {},
   "outputs": [
    {
     "data": {
      "text/plain": [
       "'0123456789'"
      ]
     },
     "execution_count": 15,
     "metadata": {},
     "output_type": "execute_result"
    }
   ],
   "source": [
    "str3[0:10] # here 10 index position value excluded hogi\n"
   ]
  },
  {
   "cell_type": "code",
   "execution_count": 18,
   "id": "6afd2019",
   "metadata": {},
   "outputs": [
    {
     "name": "stdout",
     "output_type": "stream",
     "text": [
      "False\n",
      "True\n"
     ]
    }
   ],
   "source": [
    "# string comparsion\n",
    "str1=\"apple\"\n",
    "str2=\"banana\"\n",
    "\n",
    "print(str1==str2)\n",
    "print(str1<str2)  # Dictonary->  alphabets ascending order m B is greater than A   ( completed based on oders)\n"
   ]
  },
  {
   "cell_type": "code",
   "execution_count": 19,
   "id": "ceda3049",
   "metadata": {},
   "outputs": [
    {
     "name": "stdout",
     "output_type": "stream",
     "text": [
      "True\n"
     ]
    }
   ],
   "source": [
    "a=\"aaabc\"\n",
    "b=\"aabc\"\n",
    "print(a<b)# alphabets descending orders"
   ]
  },
  {
   "cell_type": "code",
   "execution_count": 20,
   "id": "a2766101",
   "metadata": {},
   "outputs": [
    {
     "name": "stdout",
     "output_type": "stream",
     "text": [
      "hi \"python\"\n"
     ]
    }
   ],
   "source": [
    "# ESCAPE CHARACTER   \n",
    "\n",
    "str4=\"hi \\\"python\\\"\"\n",
    "print(str4)"
   ]
  },
  {
   "cell_type": "code",
   "execution_count": 23,
   "id": "3b4b2e7f",
   "metadata": {},
   "outputs": [
    {
     "name": "stdout",
     "output_type": "stream",
     "text": [
      "C:\\ProgramData\\Microsoft\\Windows\\Start Menu\\Programs\n"
     ]
    }
   ],
   "source": [
    "url=\"C:\\ProgramData\\Microsoft\\Windows\\Start Menu\\Programs\"\n",
    "print(url)\n",
    "# our you can write r\" \"-> Raw string "
   ]
  },
  {
   "cell_type": "code",
   "execution_count": 25,
   "id": "d656cc70",
   "metadata": {},
   "outputs": [
    {
     "name": "stdout",
     "output_type": "stream",
     "text": [
      "Enter your name please!!!123\n",
      "Hi123\n",
      "Hi 123\n"
     ]
    }
   ],
   "source": [
    "# taking input in python\n",
    "\n",
    "name=input(\"Enter your name please!!!\")\n",
    "# or \n",
    "print(\"Hi \"+name)\n",
    "print(f\"Hi {name}\")  # string formatting  "
   ]
  },
  {
   "cell_type": "markdown",
   "id": "e87192d5",
   "metadata": {},
   "source": [
    "### ## NUMERIC operation"
   ]
  },
  {
   "cell_type": "code",
   "execution_count": 26,
   "id": "27260678",
   "metadata": {},
   "outputs": [
    {
     "name": "stdout",
     "output_type": "stream",
     "text": [
      "16\n"
     ]
    }
   ],
   "source": [
    "print(2**4)"
   ]
  },
  {
   "cell_type": "code",
   "execution_count": 27,
   "id": "d14e8543",
   "metadata": {},
   "outputs": [
    {
     "name": "stdout",
     "output_type": "stream",
     "text": [
      "0.5\n"
     ]
    }
   ],
   "source": [
    "print(2/4)"
   ]
  },
  {
   "cell_type": "code",
   "execution_count": 28,
   "id": "28e8ce0d",
   "metadata": {},
   "outputs": [
    {
     "name": "stdout",
     "output_type": "stream",
     "text": [
      "5\n"
     ]
    }
   ],
   "source": [
    "print(20//4)"
   ]
  },
  {
   "cell_type": "code",
   "execution_count": 29,
   "id": "dd022eea",
   "metadata": {},
   "outputs": [
    {
     "name": "stdout",
     "output_type": "stream",
     "text": [
      "0\n"
     ]
    }
   ],
   "source": [
    "print(20%4)"
   ]
  },
  {
   "cell_type": "code",
   "execution_count": null,
   "id": "517ac161",
   "metadata": {},
   "outputs": [],
   "source": []
  },
  {
   "cell_type": "code",
   "execution_count": null,
   "id": "83c1f59c",
   "metadata": {},
   "outputs": [],
   "source": []
  },
  {
   "cell_type": "code",
   "execution_count": null,
   "id": "259d16ee",
   "metadata": {},
   "outputs": [],
   "source": []
  }
 ],
 "metadata": {
  "kernelspec": {
   "display_name": "Python 3 (ipykernel)",
   "language": "python",
   "name": "python3"
  },
  "language_info": {
   "codemirror_mode": {
    "name": "ipython",
    "version": 3
   },
   "file_extension": ".py",
   "mimetype": "text/x-python",
   "name": "python",
   "nbconvert_exporter": "python",
   "pygments_lexer": "ipython3",
   "version": "3.10.9"
  }
 },
 "nbformat": 4,
 "nbformat_minor": 5
}
