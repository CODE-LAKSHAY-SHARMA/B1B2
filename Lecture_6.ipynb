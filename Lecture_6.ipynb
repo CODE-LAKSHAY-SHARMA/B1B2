{
 "cells": [
  {
   "cell_type": "markdown",
   "id": "c0e1305b",
   "metadata": {},
   "source": [
    "# class 04th September 2024"
   ]
  },
  {
   "cell_type": "markdown",
   "id": "b1d0e2f5",
   "metadata": {},
   "source": [
    " ## Question given at class"
   ]
  },
  {
   "cell_type": "markdown",
   "id": "32751bca",
   "metadata": {},
   "source": [
    "### write a function that take one variable as input and return it sum , cumulative sum, average , min and maximum value. implement this function using for loop.  define function documentation using docstring and show its uses"
   ]
  },
  {
   "cell_type": "code",
   "execution_count": 9,
   "id": "65c0c295",
   "metadata": {},
   "outputs": [
    {
     "name": "stdout",
     "output_type": "stream",
     "text": [
      "{'sum': 38, 'cumulative_sum': [2, 5, 9, 14, 21, 29, 38], 'average': 5.428571428571429, 'min': 2, 'max': 9}\n"
     ]
    }
   ],
   "source": [
    "def display(list1)->None:\n",
    "    total=0\n",
    "    list2=[]\n",
    "    for i in list1:\n",
    "        total=total+i\n",
    "        list2.append(total)\n",
    "        \n",
    "    length=len(list1)\n",
    "#     print(f\"Sum is -> {sum(list1)}\")\n",
    "#     print(f\"cumulative Sum is -> {list2}\")\n",
    "#     print(f\"Average is -> {total/length}\")\n",
    "#     print(f\"Minimum is -> {min(list1)}\")\n",
    "#     print(f\"Maximum is -> {max(list1)}\")\n",
    "    result = {\n",
    "        'sum': total,\n",
    "        'cumulative_sum': list2,\n",
    "        'average': total / length if length > 0 else 0,\n",
    "        'min': min(list1),\n",
    "        'max': max(list1)\n",
    "    }\n",
    "    return result\n",
    "\n",
    "list1=[2,3,4,5,7,8,9]\n",
    "val=display(list1)\n",
    "print(val)\n"
   ]
  },
  {
   "cell_type": "markdown",
   "id": "2ab46607",
   "metadata": {},
   "source": [
    "# Question 1 part 2:  Take input for the users\n"
   ]
  },
  {
   "cell_type": "code",
   "execution_count": 11,
   "id": "a76b0451",
   "metadata": {},
   "outputs": [
    {
     "name": "stdout",
     "output_type": "stream",
     "text": [
      "Enter the number :5\n",
      "enter the element {i}6\n",
      "enter the element {i}67\n",
      "enter the element {i}8\n",
      "enter the element {i}4\n",
      "enter the element {i}21\n",
      "[6, 67, 8, 4, 21]\n"
     ]
    }
   ],
   "source": [
    "# asking user to enter the number which he want to fix\n",
    "n=int(input(\"Enter the number :\"))\n",
    "\n",
    "list1=[]\n",
    "for i in range(0,n):\n",
    "    user=int(input(\"enter the element {i}\"))\n",
    "    list1.append(user)\n",
    "print(list1)"
   ]
  },
  {
   "cell_type": "code",
   "execution_count": 12,
   "id": "d45bc8ef",
   "metadata": {},
   "outputs": [
    {
     "name": "stdout",
     "output_type": "stream",
     "text": [
      "Enter the number :5\n",
      "enter the element {i}6\n",
      "enter the element {i}7\n",
      "enter the element {i}8\n",
      "enter the element {i}9\n",
      "enter the element {i}90\n",
      "{'sum': 120, 'cumulative_sum': [6, 13, 21, 30, 120], 'average': 24.0, 'min': 6, 'max': 90}\n"
     ]
    }
   ],
   "source": [
    "# final code \n",
    "\n",
    "def display(list1)->None:\n",
    "    total=0\n",
    "    list2=[]\n",
    "    for i in list1:\n",
    "        total=total+i\n",
    "        list2.append(total)\n",
    "        \n",
    "    length=len(list1)\n",
    "    result = {\n",
    "        'sum': total,\n",
    "        'cumulative_sum': list2,\n",
    "        'average': total / length if length > 0 else 0,\n",
    "        'min': min(list1),\n",
    "        'max': max(list1)\n",
    "    }\n",
    "    return result\n",
    "\n",
    "# asking user to enter the number which he want to fix\n",
    "n=int(input(\"Enter the number :\"))\n",
    "list1=[]\n",
    "for i in range(0,n):\n",
    "    user=int(input(\"enter the element {i}\"))\n",
    "    list1.append(user)\n",
    "    \n",
    "val=display(list1)\n",
    "print(val)"
   ]
  },
  {
   "cell_type": "markdown",
   "id": "a589b169",
   "metadata": {},
   "source": [
    "### Task 3 : to make input from the user as function"
   ]
  },
  {
   "cell_type": "code",
   "execution_count": 15,
   "id": "77828529",
   "metadata": {},
   "outputs": [],
   "source": [
    "# final code \n",
    "\n",
    "def display(list1)->None:\n",
    "    total=0\n",
    "    list2=[]\n",
    "    for i in list1:\n",
    "        total=total+i\n",
    "        list2.append(total)\n",
    "        \n",
    "    length=len(list1)\n",
    "    result = {\n",
    "        'sum': total,\n",
    "        'cumulative_sum': list2,\n",
    "        'average': total / length if length > 0 else 0,\n",
    "        'min': min(list1),\n",
    "        'max': max(list1)\n",
    "    }\n",
    "    return result\n",
    "\n",
    "\n",
    "    \n",
    "# val=display(list1)\n",
    "# print(val)"
   ]
  },
  {
   "cell_type": "code",
   "execution_count": 18,
   "id": "f01a77cf",
   "metadata": {},
   "outputs": [
    {
     "name": "stdout",
     "output_type": "stream",
     "text": [
      "Enter the number :5\n",
      "enter the element {i}6\n",
      "enter the element {i}7\n",
      "enter the element {i}8\n",
      "enter the element {i}9\n",
      "enter the element {i}0\n",
      "{'sum': 30, 'cumulative_sum': [6, 13, 21, 30, 30], 'average': 6.0, 'min': 0, 'max': 9}\n"
     ]
    }
   ],
   "source": [
    "def input_from_user_element():\n",
    "    n=int(input(\"Enter the number :\"))\n",
    "    list1=[]\n",
    "    for i in range(0,n):\n",
    "        user=int(input(\"enter the element {i}\"))\n",
    "        list1.append(user)\n",
    "    val=display(list1)\n",
    "    print(val)\n",
    "    \n",
    "input_from_user_element()"
   ]
  },
  {
   "cell_type": "code",
   "execution_count": null,
   "id": "b0c19e9a",
   "metadata": {},
   "outputs": [],
   "source": []
  },
  {
   "cell_type": "code",
   "execution_count": 19,
   "id": "f7c1448d",
   "metadata": {},
   "outputs": [
    {
     "name": "stdout",
     "output_type": "stream",
     "text": [
      "Enter the number :5\n",
      "enter the element {i}5\n",
      "enter the element {i}6\n",
      "enter the element {i}7\n",
      "enter the element {i}8\n",
      "enter the element {i}9\n",
      "{'sum': 35, 'cumulative_sum': [5, 11, 18, 26, 35], 'average': 7.0, 'min': 5, 'max': 9}\n"
     ]
    }
   ],
   "source": [
    "# final code \n",
    "\n",
    "def display(list1)->None:\n",
    "    total=0\n",
    "    list2=[]\n",
    "    for i in list1:\n",
    "        total=total+i\n",
    "        list2.append(total)\n",
    "        \n",
    "    length=len(list1)\n",
    "    result = {\n",
    "        'sum': total,\n",
    "        'cumulative_sum': list2,\n",
    "        'average': total / length if length > 0 else 0,\n",
    "        'min': min(list1),\n",
    "        'max': max(list1)\n",
    "    }\n",
    "    return result\n",
    "\n",
    "\n",
    "def input_from_user_element():\n",
    "    n=int(input(\"Enter the number :\"))\n",
    "    list1=[]\n",
    "    for i in range(0,n):\n",
    "        user=int(input(\"enter the element {i}\"))\n",
    "        list1.append(user)\n",
    "    val=display(list1)\n",
    "    print(val)\n",
    "    \n",
    "input_from_user_element()"
   ]
  },
  {
   "cell_type": "code",
   "execution_count": null,
   "id": "ac27067b",
   "metadata": {},
   "outputs": [],
   "source": []
  }
 ],
 "metadata": {
  "kernelspec": {
   "display_name": "Python 3 (ipykernel)",
   "language": "python",
   "name": "python3"
  },
  "language_info": {
   "codemirror_mode": {
    "name": "ipython",
    "version": 3
   },
   "file_extension": ".py",
   "mimetype": "text/x-python",
   "name": "python",
   "nbconvert_exporter": "python",
   "pygments_lexer": "ipython3",
   "version": "3.10.9"
  }
 },
 "nbformat": 4,
 "nbformat_minor": 5
}
