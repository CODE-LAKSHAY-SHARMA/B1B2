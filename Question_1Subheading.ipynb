{
 "cells": [
  {
   "cell_type": "markdown",
   "id": "a97607b8",
   "metadata": {},
   "source": [
    "# Question 1:  \n",
    "\n",
    "### Input \n",
    "subheading\n",
    "\n",
    "### Output\n",
    "SubHeading\n"
   ]
  },
  {
   "cell_type": "code",
   "execution_count": 4,
   "id": "ca59c702",
   "metadata": {},
   "outputs": [
    {
     "name": "stdout",
     "output_type": "stream",
     "text": [
      "SubHeading\n"
     ]
    }
   ],
   "source": [
    "a=\"subheading\"\n",
    "b1=a[0:3].capitalize()\n",
    "b2=a[3:].capitalize()\n",
    "\n",
    "print(b1+\"\"+b2)"
   ]
  },
  {
   "cell_type": "code",
   "execution_count": null,
   "id": "901d5027",
   "metadata": {},
   "outputs": [],
   "source": []
  },
  {
   "cell_type": "code",
   "execution_count": null,
   "id": "57dd6995",
   "metadata": {},
   "outputs": [],
   "source": []
  },
  {
   "cell_type": "code",
   "execution_count": null,
   "id": "97cc4d42",
   "metadata": {},
   "outputs": [],
   "source": []
  }
 ],
 "metadata": {
  "kernelspec": {
   "display_name": "Python 3 (ipykernel)",
   "language": "python",
   "name": "python3"
  },
  "language_info": {
   "codemirror_mode": {
    "name": "ipython",
    "version": 3
   },
   "file_extension": ".py",
   "mimetype": "text/x-python",
   "name": "python",
   "nbconvert_exporter": "python",
   "pygments_lexer": "ipython3",
   "version": "3.10.9"
  }
 },
 "nbformat": 4,
 "nbformat_minor": 5
}
