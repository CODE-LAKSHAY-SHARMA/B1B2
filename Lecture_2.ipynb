{
 "cells": [
  {
   "cell_type": "markdown",
   "id": "a1b817aa",
   "metadata": {},
   "source": [
    "# Lecture_2  (  23/08/2024) "
   ]
  },
  {
   "cell_type": "markdown",
   "id": "fb1dd285",
   "metadata": {},
   "source": [
    "# string methods/function"
   ]
  },
  {
   "cell_type": "code",
   "execution_count": 3,
   "id": "23d8ce34",
   "metadata": {},
   "outputs": [
    {
     "data": {
      "text/plain": [
       "'hewwo worwd'"
      ]
     },
     "execution_count": 3,
     "metadata": {},
     "output_type": "execute_result"
    }
   ],
   "source": [
    "x=\"hello world\"\n",
    "x.replace('l','w')"
   ]
  },
  {
   "cell_type": "code",
   "execution_count": 6,
   "id": "da428be4",
   "metadata": {},
   "outputs": [
    {
     "data": {
      "text/plain": [
       "1690194919344"
      ]
     },
     "execution_count": 6,
     "metadata": {},
     "output_type": "execute_result"
    }
   ],
   "source": [
    "id(x)"
   ]
  },
  {
   "cell_type": "code",
   "execution_count": 7,
   "id": "6497143b",
   "metadata": {},
   "outputs": [
    {
     "data": {
      "text/plain": [
       "str"
      ]
     },
     "execution_count": 7,
     "metadata": {},
     "output_type": "execute_result"
    }
   ],
   "source": [
    "type(x)"
   ]
  },
  {
   "cell_type": "code",
   "execution_count": 8,
   "id": "f5948847",
   "metadata": {},
   "outputs": [
    {
     "data": {
      "text/plain": [
       "'hello world'"
      ]
     },
     "execution_count": 8,
     "metadata": {},
     "output_type": "execute_result"
    }
   ],
   "source": [
    "x.replace(\"hewwo\",\"hello\")"
   ]
  },
  {
   "cell_type": "code",
   "execution_count": null,
   "id": "93925f6a",
   "metadata": {},
   "outputs": [],
   "source": [
    "## string is immutable , therefore ID change nhi hogi , it will remain permanent"
   ]
  },
  {
   "cell_type": "code",
   "execution_count": 9,
   "id": "cd196aff",
   "metadata": {},
   "outputs": [
    {
     "data": {
      "text/plain": [
       "11"
      ]
     },
     "execution_count": 9,
     "metadata": {},
     "output_type": "execute_result"
    }
   ],
   "source": [
    "# length of string\n",
    "len(x)"
   ]
  },
  {
   "cell_type": "code",
   "execution_count": 10,
   "id": "d758e934",
   "metadata": {},
   "outputs": [
    {
     "name": "stdout",
     "output_type": "stream",
     "text": [
      "10\n"
     ]
    }
   ],
   "source": [
    "str2=\"0123456789\"\n",
    "print(len(str2))\n",
    "# the range is from 0 to N-1"
   ]
  },
  {
   "cell_type": "code",
   "execution_count": 11,
   "id": "dfd2483b",
   "metadata": {},
   "outputs": [
    {
     "data": {
      "text/plain": [
       "'0'"
      ]
     },
     "execution_count": 11,
     "metadata": {},
     "output_type": "execute_result"
    }
   ],
   "source": [
    "# access the first index of the string\n",
    "str2[0]"
   ]
  },
  {
   "cell_type": "code",
   "execution_count": 12,
   "id": "2249fb18",
   "metadata": {},
   "outputs": [
    {
     "ename": "IndexError",
     "evalue": "string index out of range",
     "output_type": "error",
     "traceback": [
      "\u001b[1;31m---------------------------------------------------------------------------\u001b[0m",
      "\u001b[1;31mIndexError\u001b[0m                                Traceback (most recent call last)",
      "Cell \u001b[1;32mIn[12], line 3\u001b[0m\n\u001b[0;32m      1\u001b[0m \u001b[38;5;66;03m# agar index jada put kar dey toh Exception show hoga : array index out of bound\u001b[39;00m\n\u001b[1;32m----> 3\u001b[0m \u001b[43mstr2\u001b[49m\u001b[43m[\u001b[49m\u001b[38;5;241;43m12\u001b[39;49m\u001b[43m]\u001b[49m\n",
      "\u001b[1;31mIndexError\u001b[0m: string index out of range"
     ]
    }
   ],
   "source": [
    "# agar index jada put kar dey toh Exception show hoga : array index out of bound\n",
    "\n",
    "str2[12]"
   ]
  },
  {
   "cell_type": "code",
   "execution_count": 13,
   "id": "ad528966",
   "metadata": {},
   "outputs": [
    {
     "data": {
      "text/plain": [
       "'01234'"
      ]
     },
     "execution_count": 13,
     "metadata": {},
     "output_type": "execute_result"
    }
   ],
   "source": [
    "str2[0:5]  "
   ]
  },
  {
   "cell_type": "code",
   "execution_count": 15,
   "id": "89c0df54",
   "metadata": {},
   "outputs": [
    {
     "data": {
      "text/plain": [
       "'0123456789'"
      ]
     },
     "execution_count": 15,
     "metadata": {},
     "output_type": "execute_result"
    }
   ],
   "source": [
    "# to print the complete string using slicing \n",
    "str2[0:len(str2)]\n",
    "\n",
    "# or\n",
    "str2[0:]"
   ]
  },
  {
   "cell_type": "code",
   "execution_count": null,
   "id": "cbce7d24",
   "metadata": {},
   "outputs": [],
   "source": []
  },
  {
   "cell_type": "markdown",
   "id": "83944452",
   "metadata": {},
   "source": [
    "## Type conversion in python"
   ]
  },
  {
   "cell_type": "code",
   "execution_count": 18,
   "id": "57e135eb",
   "metadata": {},
   "outputs": [
    {
     "data": {
      "text/plain": [
       "5"
      ]
     },
     "execution_count": 18,
     "metadata": {},
     "output_type": "execute_result"
    }
   ],
   "source": [
    "# x=10/2\n",
    "# x\n",
    "\n",
    "# need to get output only 5 instead of 5.0\n",
    "x=int(10/2)\n",
    "x"
   ]
  },
  {
   "cell_type": "code",
   "execution_count": 19,
   "id": "cadc7473",
   "metadata": {},
   "outputs": [
    {
     "data": {
      "text/plain": [
       "False"
      ]
     },
     "execution_count": 19,
     "metadata": {},
     "output_type": "execute_result"
    }
   ],
   "source": [
    "bool(0)"
   ]
  },
  {
   "cell_type": "code",
   "execution_count": 21,
   "id": "e89aa290",
   "metadata": {},
   "outputs": [
    {
     "data": {
      "text/plain": [
       "True"
      ]
     },
     "execution_count": 21,
     "metadata": {},
     "output_type": "execute_result"
    }
   ],
   "source": [
    "bool(-1)\n",
    "# In Python, any non-zero value is considered True when evaluated as a boolean. This includes negative numbers like -1."
   ]
  },
  {
   "cell_type": "code",
   "execution_count": 22,
   "id": "955e68b6",
   "metadata": {},
   "outputs": [
    {
     "name": "stdout",
     "output_type": "stream",
     "text": [
      "10001.000012\n"
     ]
    }
   ],
   "source": [
    "a=-10001.000012\n",
    "print(abs(a))"
   ]
  },
  {
   "cell_type": "code",
   "execution_count": 23,
   "id": "f2e49e85",
   "metadata": {},
   "outputs": [
    {
     "data": {
      "text/plain": [
       "-10001.0"
      ]
     },
     "execution_count": 23,
     "metadata": {},
     "output_type": "execute_result"
    }
   ],
   "source": [
    "round(a,2)"
   ]
  },
  {
   "cell_type": "code",
   "execution_count": null,
   "id": "27492f5a",
   "metadata": {},
   "outputs": [],
   "source": []
  },
  {
   "cell_type": "markdown",
   "id": "c2b1a006",
   "metadata": {},
   "source": [
    "## List in python"
   ]
  },
  {
   "cell_type": "code",
   "execution_count": 24,
   "id": "7d06de28",
   "metadata": {},
   "outputs": [
    {
     "data": {
      "text/plain": [
       "[1, 2, 3, 4]"
      ]
     },
     "execution_count": 24,
     "metadata": {},
     "output_type": "execute_result"
    }
   ],
   "source": [
    "a=[1,2,3,4]\n",
    "a"
   ]
  },
  {
   "cell_type": "code",
   "execution_count": 25,
   "id": "6b504239",
   "metadata": {},
   "outputs": [
    {
     "data": {
      "text/plain": [
       "1"
      ]
     },
     "execution_count": 25,
     "metadata": {},
     "output_type": "execute_result"
    }
   ],
   "source": [
    "a[0]"
   ]
  },
  {
   "cell_type": "code",
   "execution_count": 26,
   "id": "dd20e857",
   "metadata": {},
   "outputs": [
    {
     "data": {
      "text/plain": [
       "[10, 2, 3, 4]"
      ]
     },
     "execution_count": 26,
     "metadata": {},
     "output_type": "execute_result"
    }
   ],
   "source": [
    "# changing the value of index 0\n",
    "a[0]=10\n",
    "a\n",
    "# this prove that list are mutable "
   ]
  },
  {
   "cell_type": "code",
   "execution_count": 27,
   "id": "83ab9e80",
   "metadata": {},
   "outputs": [
    {
     "data": {
      "text/plain": [
       "19"
      ]
     },
     "execution_count": 27,
     "metadata": {},
     "output_type": "execute_result"
    }
   ],
   "source": [
    "# using inbuilt function\n",
    "sum(a)"
   ]
  },
  {
   "cell_type": "markdown",
   "id": "f7b5fc5d",
   "metadata": {},
   "source": [
    "# Input function"
   ]
  },
  {
   "cell_type": "code",
   "execution_count": 30,
   "id": "d2f4a49d",
   "metadata": {},
   "outputs": [
    {
     "name": "stdout",
     "output_type": "stream",
     "text": [
      "Enter your name: lakshay sharma\n",
      "my name is lakshay sharma\n"
     ]
    }
   ],
   "source": [
    "name=input(\"Enter your name: \")\n",
    "print(f\"my name is {name}\")"
   ]
  },
  {
   "cell_type": "markdown",
   "id": "e4d0a3d0",
   "metadata": {},
   "source": [
    "## finding the size of function  -> help in optimizationp purpose "
   ]
  },
  {
   "cell_type": "code",
   "execution_count": 31,
   "id": "ffd7985e",
   "metadata": {},
   "outputs": [
    {
     "name": "stdout",
     "output_type": "stream",
     "text": [
      "Size of x:28 bytes\n"
     ]
    }
   ],
   "source": [
    "import sys # Sys are in built function\n",
    "\n",
    "x=42\n",
    "size=sys.getsizeof(x)\n",
    "print(f\"Size of x:{size} bytes\")"
   ]
  },
  {
   "cell_type": "markdown",
   "id": "54faa1e2",
   "metadata": {},
   "source": [
    "## Function"
   ]
  },
  {
   "cell_type": "code",
   "execution_count": 32,
   "id": "84368096",
   "metadata": {},
   "outputs": [
    {
     "name": "stdout",
     "output_type": "stream",
     "text": [
      "enter the number10\n",
      "Value is 10 \n",
      "Value  of ID is 1690114327056\n",
      "Value  of ID is <class 'int'>\n",
      "Value is 10 \n",
      "Value  of ID is 1690114327056\n",
      "Value  of ID is <class 'int'>\n"
     ]
    }
   ],
   "source": [
    "# syntax of function\n",
    "\n",
    "\n",
    "def display(testvar):\n",
    "    print(f\"Value is {testvar} \")\n",
    "    print(f\"Value  of ID is {id(testvar)}\")\n",
    "    print(f\"Value  of ID is {type(testvar)}\")\n",
    "\n",
    "a=int(input(\"enter the number\"))\n",
    "display(a)\n",
    "display(a)"
   ]
  },
  {
   "cell_type": "code",
   "execution_count": null,
   "id": "f4b18b96",
   "metadata": {},
   "outputs": [],
   "source": []
  },
  {
   "cell_type": "code",
   "execution_count": null,
   "id": "a95895a8",
   "metadata": {},
   "outputs": [],
   "source": []
  },
  {
   "cell_type": "code",
   "execution_count": null,
   "id": "ac9c3575",
   "metadata": {},
   "outputs": [],
   "source": []
  },
  {
   "cell_type": "code",
   "execution_count": null,
   "id": "44b0318e",
   "metadata": {},
   "outputs": [],
   "source": []
  },
  {
   "cell_type": "code",
   "execution_count": null,
   "id": "d8b71c99",
   "metadata": {},
   "outputs": [],
   "source": []
  },
  {
   "cell_type": "code",
   "execution_count": null,
   "id": "974a5fd9",
   "metadata": {},
   "outputs": [],
   "source": []
  },
  {
   "cell_type": "code",
   "execution_count": null,
   "id": "3349c8b4",
   "metadata": {},
   "outputs": [],
   "source": []
  },
  {
   "cell_type": "code",
   "execution_count": null,
   "id": "9a3edf05",
   "metadata": {},
   "outputs": [],
   "source": []
  },
  {
   "cell_type": "code",
   "execution_count": null,
   "id": "2ee51aab",
   "metadata": {},
   "outputs": [],
   "source": []
  },
  {
   "cell_type": "code",
   "execution_count": null,
   "id": "98375528",
   "metadata": {},
   "outputs": [],
   "source": []
  }
 ],
 "metadata": {
  "kernelspec": {
   "display_name": "Python 3 (ipykernel)",
   "language": "python",
   "name": "python3"
  },
  "language_info": {
   "codemirror_mode": {
    "name": "ipython",
    "version": 3
   },
   "file_extension": ".py",
   "mimetype": "text/x-python",
   "name": "python",
   "nbconvert_exporter": "python",
   "pygments_lexer": "ipython3",
   "version": "3.10.9"
  }
 },
 "nbformat": 4,
 "nbformat_minor": 5
}
