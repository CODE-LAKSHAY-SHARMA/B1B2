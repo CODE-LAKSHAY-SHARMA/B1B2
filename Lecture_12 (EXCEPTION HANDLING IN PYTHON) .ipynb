{
 "cells": [
  {
   "cell_type": "markdown",
   "id": "4777ff94",
   "metadata": {},
   "source": [
    "##  class 20-09-2024 (EXCEPTION HANDLING )"
   ]
  },
  {
   "cell_type": "markdown",
   "id": "908cd384",
   "metadata": {},
   "source": [
    "# TRY EXCEPT BLOCK "
   ]
  },
  {
   "cell_type": "code",
   "execution_count": 2,
   "id": "c258a46d",
   "metadata": {},
   "outputs": [
    {
     "name": "stdout",
     "output_type": "stream",
     "text": [
      "Cannot divide by zero!\n"
     ]
    }
   ],
   "source": [
    "try:\n",
    "    a = 5 / 0  # ZeroDivisionError\n",
    "    b = int(\"Hello\")  # ValueError\n",
    "except ZeroDivisionError:\n",
    "    print(\"Cannot divide by zero!\")\n",
    "except ValueError:\n",
    "    print(\"Invalid literal for int()!\")\n"
   ]
  },
  {
   "cell_type": "code",
   "execution_count": 3,
   "id": "4d2513fb",
   "metadata": {},
   "outputs": [
    {
     "name": "stderr",
     "output_type": "stream",
     "text": [
      "<>:4: SyntaxWarning: assertion is always true, perhaps remove parentheses?\n",
      "<>:5: SyntaxWarning: assertion is always true, perhaps remove parentheses?\n",
      "<>:4: SyntaxWarning: assertion is always true, perhaps remove parentheses?\n",
      "<>:5: SyntaxWarning: assertion is always true, perhaps remove parentheses?\n",
      "C:\\Users\\laksh\\AppData\\Local\\Temp\\ipykernel_19608\\997598134.py:4: SyntaxWarning: assertion is always true, perhaps remove parentheses?\n",
      "  assert(x>5, \"x should be greater than 5!\")\n",
      "C:\\Users\\laksh\\AppData\\Local\\Temp\\ipykernel_19608\\997598134.py:5: SyntaxWarning: assertion is always true, perhaps remove parentheses?\n",
      "  assert(x>15, \"x should be greater than 5!\") # this wil raise assertionError\n"
     ]
    }
   ],
   "source": [
    "# Assert : if the programming given answer in False then it give assertion to the code\n",
    "\n",
    "x=10\n",
    "assert(x>5, \"x should be greater than 5!\")\n",
    "assert(x>15, \"x should be greater than 5!\") # this wil raise assertionError"
   ]
  },
  {
   "cell_type": "code",
   "execution_count": null,
   "id": "e3cab813",
   "metadata": {},
   "outputs": [],
   "source": []
  },
  {
   "cell_type": "markdown",
   "id": "02a3a87a",
   "metadata": {},
   "source": [
    "# INPUT OUTPUT IN PYTHON  "
   ]
  },
  {
   "cell_type": "code",
   "execution_count": null,
   "id": "1bb3b6fb",
   "metadata": {},
   "outputs": [],
   "source": [
    "# open function in python\n",
    "\n",
    "    "
   ]
  },
  {
   "cell_type": "code",
   "execution_count": null,
   "id": "fbee8e5a",
   "metadata": {},
   "outputs": [],
   "source": []
  },
  {
   "cell_type": "code",
   "execution_count": null,
   "id": "115e214d",
   "metadata": {},
   "outputs": [],
   "source": []
  },
  {
   "cell_type": "code",
   "execution_count": null,
   "id": "d31f7e5c",
   "metadata": {},
   "outputs": [],
   "source": []
  },
  {
   "cell_type": "code",
   "execution_count": null,
   "id": "896a342e",
   "metadata": {},
   "outputs": [],
   "source": []
  },
  {
   "cell_type": "code",
   "execution_count": null,
   "id": "b481cdb3",
   "metadata": {},
   "outputs": [],
   "source": []
  },
  {
   "cell_type": "code",
   "execution_count": null,
   "id": "45c92dba",
   "metadata": {},
   "outputs": [],
   "source": []
  },
  {
   "cell_type": "code",
   "execution_count": null,
   "id": "c55e46b7",
   "metadata": {},
   "outputs": [],
   "source": []
  },
  {
   "cell_type": "code",
   "execution_count": null,
   "id": "63cad3d9",
   "metadata": {},
   "outputs": [],
   "source": []
  }
 ],
 "metadata": {
  "kernelspec": {
   "display_name": "Python 3 (ipykernel)",
   "language": "python",
   "name": "python3"
  },
  "language_info": {
   "codemirror_mode": {
    "name": "ipython",
    "version": 3
   },
   "file_extension": ".py",
   "mimetype": "text/x-python",
   "name": "python",
   "nbconvert_exporter": "python",
   "pygments_lexer": "ipython3",
   "version": "3.10.9"
  }
 },
 "nbformat": 4,
 "nbformat_minor": 5
}
