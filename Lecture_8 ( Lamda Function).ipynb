{
 "cells": [
  {
   "cell_type": "markdown",
   "id": "6a946910",
   "metadata": {},
   "source": [
    "# Class on 10-09-2024 \n",
    "# Python Programming "
   ]
  },
  {
   "cell_type": "markdown",
   "id": "c079e480",
   "metadata": {},
   "source": [
    "# Lambda function"
   ]
  },
  {
   "cell_type": "code",
   "execution_count": 2,
   "id": "ca36a0b1",
   "metadata": {},
   "outputs": [
    {
     "data": {
      "text/plain": [
       "30"
      ]
     },
     "execution_count": 2,
     "metadata": {},
     "output_type": "execute_result"
    }
   ],
   "source": [
    "# lambda  map,filter,list comprehension\n",
    "\n",
    "\n",
    "# NORMAL function to add two variables\n",
    "\n",
    "def myadd1(a,b):\n",
    "    res=a+b\n",
    "    return res\n",
    "\n",
    "a=10\n",
    "b=20\n",
    "res=myadd1(a,b)\n",
    "res"
   ]
  },
  {
   "cell_type": "markdown",
   "id": "8eefd7a5",
   "metadata": {},
   "source": [
    "## # lambda function: used only one time ( sirf agar function ko ek hi baar use karna hai toh tab use karte hai)"
   ]
  },
  {
   "cell_type": "code",
   "execution_count": 6,
   "id": "de13ff38",
   "metadata": {},
   "outputs": [
    {
     "name": "stdout",
     "output_type": "stream",
     "text": [
      "8\n"
     ]
    }
   ],
   "source": [
    "# Lambda function to add two numbers\n",
    " \n",
    "add = lambda a, b: a + b   # a,b are the argument  and after colon(:) is the return value\n",
    "print(add(3, 5))"
   ]
  },
  {
   "cell_type": "markdown",
   "id": "5eb6d8e1",
   "metadata": {},
   "source": [
    "# TASK -1 write a programing to multiply two variable using lambda function"
   ]
  },
  {
   "cell_type": "code",
   "execution_count": 11,
   "id": "529d0b53",
   "metadata": {},
   "outputs": [
    {
     "name": "stdout",
     "output_type": "stream",
     "text": [
      "100\n",
      "enter value 1->5\n",
      "enter value 2->6\n",
      "30\n"
     ]
    }
   ],
   "source": [
    "# BY USING LAMBDA FUNCTION\n",
    "\n",
    "mul = lambda a, b: a * b   # this will take only one expression, multiple expression nhi lega\n",
    "\n",
    "print(mul(10, 10))\n",
    "\n",
    "\n",
    "# BY USING NORMAL FUNCTION CALLING\n",
    "\n",
    "def mul1(x,y)->int:\n",
    "    return x*y \n",
    "\n",
    "a=int(input(\"enter value 1->\"))\n",
    "b=int(input(\"enter value 2->\"))\n",
    "\n",
    "val=mul1(a,b)\n",
    "print(val)"
   ]
  },
  {
   "cell_type": "markdown",
   "id": "334c7a65",
   "metadata": {},
   "source": [
    "# MAP FUNCTION"
   ]
  },
  {
   "cell_type": "code",
   "execution_count": 12,
   "id": "0cf10a36",
   "metadata": {},
   "outputs": [
    {
     "name": "stdout",
     "output_type": "stream",
     "text": [
      "[1, 4, 9, 16]\n"
     ]
    }
   ],
   "source": [
    "# map function  :  applies a given fuction to each items of an iterable like a list and return a map object which is an iterator\n",
    "\n",
    "numbers = [1, 2, 3, 4]\n",
    "squared = map(lambda x: x * x, numbers)   # last , number argument is the final list after operation perform by lambda function\n",
    "print(list(squared)) \n",
    "\n"
   ]
  },
  {
   "cell_type": "markdown",
   "id": "bc1f36ce",
   "metadata": {},
   "source": [
    "# task-2 write a program to square each number in a list without using map and lambda"
   ]
  },
  {
   "cell_type": "code",
   "execution_count": 13,
   "id": "69913d6a",
   "metadata": {},
   "outputs": [
    {
     "name": "stdout",
     "output_type": "stream",
     "text": [
      "List after sqaure each element is  -> [1, 9, 25, 36, 49, 64]\n"
     ]
    }
   ],
   "source": [
    "list1=[1,3,5,6,7,8]\n",
    "list2=[]\n",
    "\n",
    "for i in list1:\n",
    "    result=i*i\n",
    "    list2.append(result)\n",
    "\n",
    "print(f\"List after sqaure each element is  -> {list2}\")\n",
    "    "
   ]
  },
  {
   "cell_type": "markdown",
   "id": "04543d0e",
   "metadata": {},
   "source": [
    "# task 3->  write a program to square each number in a list without using map and lambda and return only even number"
   ]
  },
  {
   "cell_type": "code",
   "execution_count": 14,
   "id": "b4c41b07",
   "metadata": {},
   "outputs": [
    {
     "name": "stdout",
     "output_type": "stream",
     "text": [
      "List after square each element is EVEN NUMBER   -> [36, 64]\n"
     ]
    }
   ],
   "source": [
    "list1=[1,3,5,6,7,8]\n",
    "list2=[]\n",
    "\n",
    "for i in list1:\n",
    "    result=i*i\n",
    "    if result%2==0:\n",
    "        list2.append(result)\n",
    "print(f\"List after square each element is EVEN NUMBER   -> {list2}\")\n",
    "    "
   ]
  },
  {
   "cell_type": "code",
   "execution_count": 16,
   "id": "6fcba235",
   "metadata": {},
   "outputs": [
    {
     "name": "stdout",
     "output_type": "stream",
     "text": [
      "36\n",
      "64\n"
     ]
    }
   ],
   "source": [
    "# just checking , taking 2 function\n",
    "\n",
    "def square(list12):\n",
    "    for i in list12:\n",
    "        result = i * i\n",
    "        even_square_number(result)\n",
    "\n",
    "def even_square_number(result):\n",
    "    if result % 2 == 0:\n",
    "        print(result)\n",
    "\n",
    "list12 = [1, 3, 5, 6, 7, 8]\n",
    "square(list12)\n"
   ]
  },
  {
   "cell_type": "markdown",
   "id": "153beb0c",
   "metadata": {},
   "source": [
    "# filter ,map and lambda function "
   ]
  },
  {
   "cell_type": "code",
   "execution_count": 18,
   "id": "0f4e6ec1",
   "metadata": {},
   "outputs": [
    {
     "name": "stdout",
     "output_type": "stream",
     "text": [
      "[1, 4, 9, 16, 25]\n"
     ]
    }
   ],
   "source": [
    "# Using map to square each number in a list\n",
    "\n",
    "numbers = [1, 2, 3, 4, 5]\n",
    "squared = map(lambda x: x * x, numbers)\n",
    "print(list(squared)) \n"
   ]
  },
  {
   "cell_type": "code",
   "execution_count": 19,
   "id": "b1bff61d",
   "metadata": {},
   "outputs": [
    {
     "name": "stdout",
     "output_type": "stream",
     "text": [
      "[2, 4]\n"
     ]
    }
   ],
   "source": [
    "# FILTER FUNCTION\n",
    "\n",
    "even_numbers = filter(lambda x: x % 2 == 0, numbers)\n",
    "print(list(even_numbers))  # Output: [2, 4]"
   ]
  },
  {
   "cell_type": "code",
   "execution_count": null,
   "id": "86495853",
   "metadata": {},
   "outputs": [],
   "source": []
  },
  {
   "cell_type": "markdown",
   "id": "3636b2ca",
   "metadata": {},
   "source": [
    "# LIST COMPREHENSION"
   ]
  },
  {
   "cell_type": "markdown",
   "id": "9317f913",
   "metadata": {},
   "source": [
    "# TASK 3 -  create a list of square of even number from 0 to 9"
   ]
  },
  {
   "cell_type": "code",
   "execution_count": 22,
   "id": "eea3ff87",
   "metadata": {},
   "outputs": [
    {
     "name": "stdout",
     "output_type": "stream",
     "text": [
      "[0, 4, 16, 36, 64]\n"
     ]
    }
   ],
   "source": [
    "list1=[]\n",
    "\n",
    "for i in range(0,10):\n",
    "    if i%2==0:\n",
    "        list1.append(i*i)\n",
    "print(list1)"
   ]
  },
  {
   "cell_type": "code",
   "execution_count": 23,
   "id": "9d5c21e0",
   "metadata": {},
   "outputs": [
    {
     "name": "stdout",
     "output_type": "stream",
     "text": [
      "[0, 4, 16, 36, 64]\n"
     ]
    }
   ],
   "source": [
    "# with list comprehnesion\n",
    "\n",
    "result= [i*i for i in range(0,10) if i%2==0]\n",
    "print(result)"
   ]
  },
  {
   "cell_type": "code",
   "execution_count": null,
   "id": "f75407d9",
   "metadata": {},
   "outputs": [],
   "source": []
  },
  {
   "cell_type": "markdown",
   "id": "efbaa793",
   "metadata": {},
   "source": [
    "# TASK4 :  write a program that contain list containing SAP ID and return a list of email address"
   ]
  },
  {
   "cell_type": "code",
   "execution_count": 27,
   "id": "a22fdc30",
   "metadata": {},
   "outputs": [
    {
     "name": "stdout",
     "output_type": "stream",
     "text": [
      "Student email id is->sharma10775@stu.upes.ac.in\n"
     ]
    }
   ],
   "source": [
    "ans=\"@stu.upes.ac.in\"\n",
    "\n",
    "sap_id=str(590010775)\n",
    "name=\"lakshay sharma\"\n",
    "\n",
    "val= name[8:]+sap_id[4:]+ans\n",
    "print(f\"Student email id is->{val}\")\n"
   ]
  },
  {
   "cell_type": "code",
   "execution_count": null,
   "id": "a7602ef3",
   "metadata": {},
   "outputs": [],
   "source": []
  },
  {
   "cell_type": "markdown",
   "id": "80f939ba",
   "metadata": {},
   "source": [
    "# TASK5:  write a program that take email address from user and message from user and using SMTP library send msg to all the email address\n"
   ]
  },
  {
   "cell_type": "code",
   "execution_count": null,
   "id": "f06be95e",
   "metadata": {},
   "outputs": [],
   "source": []
  },
  {
   "cell_type": "markdown",
   "id": "e46671c6",
   "metadata": {},
   "source": [
    "# MODULES IN PYTHON"
   ]
  },
  {
   "cell_type": "code",
   "execution_count": 31,
   "id": "630f53fb",
   "metadata": {},
   "outputs": [],
   "source": [
    "import os"
   ]
  },
  {
   "cell_type": "markdown",
   "id": "c93fec51",
   "metadata": {},
   "source": [
    "# TASK 6:  write a program to print current time then sleep for 2 second and again print current time"
   ]
  },
  {
   "cell_type": "code",
   "execution_count": 41,
   "id": "a655b0bd",
   "metadata": {},
   "outputs": [],
   "source": [
    "# import time\n",
    "# help(time)"
   ]
  },
  {
   "cell_type": "code",
   "execution_count": 43,
   "id": "d4eeaead",
   "metadata": {},
   "outputs": [
    {
     "name": "stdout",
     "output_type": "stream",
     "text": [
      "Help on built-in module time:\n",
      "\n",
      "NAME\n",
      "    time - This module provides various functions to manipulate time values.\n",
      "\n",
      "DESCRIPTION\n",
      "    There are two standard representations of time.  One is the number\n",
      "    of seconds since the Epoch, in UTC (a.k.a. GMT).  It may be an integer\n",
      "    or a floating point number (to represent fractions of seconds).\n",
      "    The Epoch is system-defined; on Unix, it is generally January 1st, 1970.\n",
      "    The actual value can be retrieved by calling gmtime(0).\n",
      "    \n",
      "    The other representation is a tuple of 9 integers giving local time.\n",
      "    The tuple items are:\n",
      "      year (including century, e.g. 1998)\n",
      "      month (1-12)\n",
      "      day (1-31)\n",
      "      hours (0-23)\n",
      "      minutes (0-59)\n",
      "      seconds (0-59)\n",
      "      weekday (0-6, Monday is 0)\n",
      "      Julian day (day in the year, 1-366)\n",
      "      DST (Daylight Savings Time) flag (-1, 0 or 1)\n",
      "    If the DST flag is 0, the time is given in the regular time zone;\n",
      "    if it is 1, the time is given in the DST time zone;\n",
      "    if it is -1, mktime() should guess based on the date and time.\n",
      "\n",
      "CLASSES\n",
      "    builtins.tuple(builtins.object)\n",
      "        struct_time\n",
      "    \n",
      "    class struct_time(builtins.tuple)\n",
      "     |  struct_time(iterable=(), /)\n",
      "     |  \n",
      "     |  The time value as returned by gmtime(), localtime(), and strptime(), and\n",
      "     |  accepted by asctime(), mktime() and strftime().  May be considered as a\n",
      "     |  sequence of 9 integers.\n",
      "     |  \n",
      "     |  Note that several fields' values are not the same as those defined by\n",
      "     |  the C language standard for struct tm.  For example, the value of the\n",
      "     |  field tm_year is the actual year, not year - 1900.  See individual\n",
      "     |  fields' descriptions for details.\n",
      "     |  \n",
      "     |  Method resolution order:\n",
      "     |      struct_time\n",
      "     |      builtins.tuple\n",
      "     |      builtins.object\n",
      "     |  \n",
      "     |  Methods defined here:\n",
      "     |  \n",
      "     |  __reduce__(...)\n",
      "     |      Helper for pickle.\n",
      "     |  \n",
      "     |  __repr__(self, /)\n",
      "     |      Return repr(self).\n",
      "     |  \n",
      "     |  ----------------------------------------------------------------------\n",
      "     |  Static methods defined here:\n",
      "     |  \n",
      "     |  __new__(*args, **kwargs) from builtins.type\n",
      "     |      Create and return a new object.  See help(type) for accurate signature.\n",
      "     |  \n",
      "     |  ----------------------------------------------------------------------\n",
      "     |  Data descriptors defined here:\n",
      "     |  \n",
      "     |  tm_gmtoff\n",
      "     |      offset from UTC in seconds\n",
      "     |  \n",
      "     |  tm_hour\n",
      "     |      hours, range [0, 23]\n",
      "     |  \n",
      "     |  tm_isdst\n",
      "     |      1 if summer time is in effect, 0 if not, and -1 if unknown\n",
      "     |  \n",
      "     |  tm_mday\n",
      "     |      day of month, range [1, 31]\n",
      "     |  \n",
      "     |  tm_min\n",
      "     |      minutes, range [0, 59]\n",
      "     |  \n",
      "     |  tm_mon\n",
      "     |      month of year, range [1, 12]\n",
      "     |  \n",
      "     |  tm_sec\n",
      "     |      seconds, range [0, 61])\n",
      "     |  \n",
      "     |  tm_wday\n",
      "     |      day of week, range [0, 6], Monday is 0\n",
      "     |  \n",
      "     |  tm_yday\n",
      "     |      day of year, range [1, 366]\n",
      "     |  \n",
      "     |  tm_year\n",
      "     |      year, for example, 1993\n",
      "     |  \n",
      "     |  tm_zone\n",
      "     |      abbreviation of timezone name\n",
      "     |  \n",
      "     |  ----------------------------------------------------------------------\n",
      "     |  Data and other attributes defined here:\n",
      "     |  \n",
      "     |  __match_args__ = ('tm_year', 'tm_mon', 'tm_mday', 'tm_hour', 'tm_min',...\n",
      "     |  \n",
      "     |  n_fields = 11\n",
      "     |  \n",
      "     |  n_sequence_fields = 9\n",
      "     |  \n",
      "     |  n_unnamed_fields = 0\n",
      "     |  \n",
      "     |  ----------------------------------------------------------------------\n",
      "     |  Methods inherited from builtins.tuple:\n",
      "     |  \n",
      "     |  __add__(self, value, /)\n",
      "     |      Return self+value.\n",
      "     |  \n",
      "     |  __contains__(self, key, /)\n",
      "     |      Return key in self.\n",
      "     |  \n",
      "     |  __eq__(self, value, /)\n",
      "     |      Return self==value.\n",
      "     |  \n",
      "     |  __ge__(self, value, /)\n",
      "     |      Return self>=value.\n",
      "     |  \n",
      "     |  __getattribute__(self, name, /)\n",
      "     |      Return getattr(self, name).\n",
      "     |  \n",
      "     |  __getitem__(self, key, /)\n",
      "     |      Return self[key].\n",
      "     |  \n",
      "     |  __getnewargs__(self, /)\n",
      "     |  \n",
      "     |  __gt__(self, value, /)\n",
      "     |      Return self>value.\n",
      "     |  \n",
      "     |  __hash__(self, /)\n",
      "     |      Return hash(self).\n",
      "     |  \n",
      "     |  __iter__(self, /)\n",
      "     |      Implement iter(self).\n",
      "     |  \n",
      "     |  __le__(self, value, /)\n",
      "     |      Return self<=value.\n",
      "     |  \n",
      "     |  __len__(self, /)\n",
      "     |      Return len(self).\n",
      "     |  \n",
      "     |  __lt__(self, value, /)\n",
      "     |      Return self<value.\n",
      "     |  \n",
      "     |  __mul__(self, value, /)\n",
      "     |      Return self*value.\n",
      "     |  \n",
      "     |  __ne__(self, value, /)\n",
      "     |      Return self!=value.\n",
      "     |  \n",
      "     |  __rmul__(self, value, /)\n",
      "     |      Return value*self.\n",
      "     |  \n",
      "     |  count(self, value, /)\n",
      "     |      Return number of occurrences of value.\n",
      "     |  \n",
      "     |  index(self, value, start=0, stop=9223372036854775807, /)\n",
      "     |      Return first index of value.\n",
      "     |      \n",
      "     |      Raises ValueError if the value is not present.\n",
      "     |  \n",
      "     |  ----------------------------------------------------------------------\n",
      "     |  Class methods inherited from builtins.tuple:\n",
      "     |  \n",
      "     |  __class_getitem__(...) from builtins.type\n",
      "     |      See PEP 585\n",
      "\n",
      "FUNCTIONS\n",
      "    asctime(...)\n",
      "        asctime([tuple]) -> string\n",
      "        \n",
      "        Convert a time tuple to a string, e.g. 'Sat Jun 06 16:26:11 1998'.\n",
      "        When the time tuple is not present, current time as returned by localtime()\n",
      "        is used.\n",
      "    \n",
      "    ctime(...)\n",
      "        ctime(seconds) -> string\n",
      "        \n",
      "        Convert a time in seconds since the Epoch to a string in local time.\n",
      "        This is equivalent to asctime(localtime(seconds)). When the time tuple is\n",
      "        not present, current time as returned by localtime() is used.\n",
      "    \n",
      "    get_clock_info(...)\n",
      "        get_clock_info(name: str) -> dict\n",
      "        \n",
      "        Get information of the specified clock.\n",
      "    \n",
      "    gmtime(...)\n",
      "        gmtime([seconds]) -> (tm_year, tm_mon, tm_mday, tm_hour, tm_min,\n",
      "                               tm_sec, tm_wday, tm_yday, tm_isdst)\n",
      "        \n",
      "        Convert seconds since the Epoch to a time tuple expressing UTC (a.k.a.\n",
      "        GMT).  When 'seconds' is not passed in, convert the current time instead.\n",
      "        \n",
      "        If the platform supports the tm_gmtoff and tm_zone, they are available as\n",
      "        attributes only.\n",
      "    \n",
      "    localtime(...)\n",
      "        localtime([seconds]) -> (tm_year,tm_mon,tm_mday,tm_hour,tm_min,\n",
      "                                  tm_sec,tm_wday,tm_yday,tm_isdst)\n",
      "        \n",
      "        Convert seconds since the Epoch to a time tuple expressing local time.\n",
      "        When 'seconds' is not passed in, convert the current time instead.\n",
      "    \n",
      "    mktime(...)\n",
      "        mktime(tuple) -> floating point number\n",
      "        \n",
      "        Convert a time tuple in local time to seconds since the Epoch.\n",
      "        Note that mktime(gmtime(0)) will not generally return zero for most\n",
      "        time zones; instead the returned value will either be equal to that\n",
      "        of the timezone or altzone attributes on the time module.\n",
      "    \n",
      "    monotonic(...)\n",
      "        monotonic() -> float\n",
      "        \n",
      "        Monotonic clock, cannot go backward.\n",
      "    \n",
      "    monotonic_ns(...)\n",
      "        monotonic_ns() -> int\n",
      "        \n",
      "        Monotonic clock, cannot go backward, as nanoseconds.\n",
      "    \n",
      "    perf_counter(...)\n",
      "        perf_counter() -> float\n",
      "        \n",
      "        Performance counter for benchmarking.\n",
      "    \n",
      "    perf_counter_ns(...)\n",
      "        perf_counter_ns() -> int\n",
      "        \n",
      "        Performance counter for benchmarking as nanoseconds.\n",
      "    \n",
      "    process_time(...)\n",
      "        process_time() -> float\n",
      "        \n",
      "        Process time for profiling: sum of the kernel and user-space CPU time.\n",
      "    \n",
      "    process_time_ns(...)\n",
      "        process_time() -> int\n",
      "        \n",
      "        Process time for profiling as nanoseconds:\n",
      "        sum of the kernel and user-space CPU time.\n",
      "    \n",
      "    sleep(...)\n",
      "        sleep(seconds)\n",
      "        \n",
      "        Delay execution for a given number of seconds.  The argument may be\n",
      "        a floating point number for subsecond precision.\n",
      "    \n",
      "    strftime(...)\n",
      "        strftime(format[, tuple]) -> string\n",
      "        \n",
      "        Convert a time tuple to a string according to a format specification.\n",
      "        See the library reference manual for formatting codes. When the time tuple\n",
      "        is not present, current time as returned by localtime() is used.\n",
      "        \n",
      "        Commonly used format codes:\n",
      "        \n",
      "        %Y  Year with century as a decimal number.\n",
      "        %m  Month as a decimal number [01,12].\n",
      "        %d  Day of the month as a decimal number [01,31].\n",
      "        %H  Hour (24-hour clock) as a decimal number [00,23].\n",
      "        %M  Minute as a decimal number [00,59].\n",
      "        %S  Second as a decimal number [00,61].\n",
      "        %z  Time zone offset from UTC.\n",
      "        %a  Locale's abbreviated weekday name.\n",
      "        %A  Locale's full weekday name.\n",
      "        %b  Locale's abbreviated month name.\n",
      "        %B  Locale's full month name.\n",
      "        %c  Locale's appropriate date and time representation.\n",
      "        %I  Hour (12-hour clock) as a decimal number [01,12].\n",
      "        %p  Locale's equivalent of either AM or PM.\n",
      "        \n",
      "        Other codes may be available on your platform.  See documentation for\n",
      "        the C library strftime function.\n",
      "    \n",
      "    strptime(...)\n",
      "        strptime(string, format) -> struct_time\n",
      "        \n",
      "        Parse a string to a time tuple according to a format specification.\n",
      "        See the library reference manual for formatting codes (same as\n",
      "        strftime()).\n",
      "        \n",
      "        Commonly used format codes:\n",
      "        \n",
      "        %Y  Year with century as a decimal number.\n",
      "        %m  Month as a decimal number [01,12].\n",
      "        %d  Day of the month as a decimal number [01,31].\n",
      "        %H  Hour (24-hour clock) as a decimal number [00,23].\n",
      "        %M  Minute as a decimal number [00,59].\n",
      "        %S  Second as a decimal number [00,61].\n",
      "        %z  Time zone offset from UTC.\n",
      "        %a  Locale's abbreviated weekday name.\n",
      "        %A  Locale's full weekday name.\n",
      "        %b  Locale's abbreviated month name.\n",
      "        %B  Locale's full month name.\n",
      "        %c  Locale's appropriate date and time representation.\n",
      "        %I  Hour (12-hour clock) as a decimal number [01,12].\n",
      "        %p  Locale's equivalent of either AM or PM.\n",
      "        \n",
      "        Other codes may be available on your platform.  See documentation for\n",
      "        the C library strftime function.\n",
      "    \n",
      "    thread_time(...)\n",
      "        thread_time() -> float\n",
      "        \n",
      "        Thread time for profiling: sum of the kernel and user-space CPU time.\n",
      "    \n",
      "    thread_time_ns(...)\n",
      "        thread_time() -> int\n",
      "        \n",
      "        Thread time for profiling as nanoseconds:\n",
      "        sum of the kernel and user-space CPU time.\n",
      "    \n",
      "    time(...)\n",
      "        time() -> floating point number\n",
      "        \n",
      "        Return the current time in seconds since the Epoch.\n",
      "        Fractions of a second may be present if the system clock provides them.\n",
      "    \n",
      "    time_ns(...)\n",
      "        time_ns() -> int\n",
      "        \n",
      "        Return the current time in nanoseconds since the Epoch.\n",
      "\n",
      "DATA\n",
      "    altzone = -23400\n",
      "    daylight = 0\n",
      "    timezone = -19800\n",
      "    tzname = ('India Standard Time', 'India Daylight Time')\n",
      "\n",
      "FILE\n",
      "    (built-in)\n",
      "\n",
      "\n"
     ]
    }
   ],
   "source": [
    "import time\n",
    "help(time)"
   ]
  },
  {
   "cell_type": "code",
   "execution_count": 38,
   "id": "5b8c7c1a",
   "metadata": {},
   "outputs": [
    {
     "name": "stdout",
     "output_type": "stream",
     "text": [
      "Current time (in seconds): 1725939601.2960522\n"
     ]
    }
   ],
   "source": [
    "import time\n",
    "  # Get the current time in seconds since the epoch (Unix timestamp)\n",
    "current_time = time.time()\n",
    "print(\"Current time (in seconds):\", current_time)\n",
    "  "
   ]
  },
  {
   "cell_type": "code",
   "execution_count": 48,
   "id": "a19803c5",
   "metadata": {},
   "outputs": [
    {
     "name": "stdout",
     "output_type": "stream",
     "text": [
      "Start\n",
      " Current time (in seconds): 1725939769.6533506\n",
      "End after 2 seconds\n",
      "Current time (in seconds): 1725939771.6611211\n"
     ]
    }
   ],
   "source": [
    "print(\"Start\")\n",
    "current_time = time.time()\n",
    "print(\" Current time (in seconds):\", current_time)\n",
    "time.sleep(2)  # Pauses execution for 2 seconds\n",
    "print(\"End after 2 seconds\")\n",
    "current_time = time.time()\n",
    "print(\"Current time (in seconds):\", current_time)\n",
    "  "
   ]
  },
  {
   "cell_type": "code",
   "execution_count": 49,
   "id": "849195b9",
   "metadata": {},
   "outputs": [
    {
     "name": "stdout",
     "output_type": "stream",
     "text": [
      "Start\n",
      " Current time (HH:MM:SS): 09:13:54\n",
      "End after 2 seconds\n",
      "Current time (HH:MM:SS): 09:13:56\n"
     ]
    }
   ],
   "source": [
    "import time\n",
    "\n",
    "print(\"Start\")\n",
    "current_time = time.time()\n",
    "formatted_time = time.strftime('%H:%M:%S', time.localtime(current_time))\n",
    "print(\" Current time (HH:MM:SS):\", formatted_time)\n",
    "\n",
    "time.sleep(2)  # Pauses execution for 2 seconds\n",
    "\n",
    "print(\"End after 2 seconds\")\n",
    "current_time = time.time()\n",
    "formatted_time = time.strftime('%H:%M:%S', time.localtime(current_time))\n",
    "print(\"Current time (HH:MM:SS):\", formatted_time)\n"
   ]
  },
  {
   "cell_type": "code",
   "execution_count": null,
   "id": "50237fc8",
   "metadata": {},
   "outputs": [],
   "source": []
  },
  {
   "cell_type": "markdown",
   "id": "adcd1e4c",
   "metadata": {},
   "source": [
    "# write a program that take directory address from the user and return a list of file in the directory in that list"
   ]
  },
  {
   "cell_type": "code",
   "execution_count": 50,
   "id": "d6a79f19",
   "metadata": {},
   "outputs": [
    {
     "name": "stdout",
     "output_type": "stream",
     "text": [
      "Current working directory: C:\\Users\\laksh\\Python Professor Prateek Gautam sir\n"
     ]
    }
   ],
   "source": [
    "import os\n",
    "# Get the current working directory\n",
    "cwd = os.getcwd()\n",
    "print(\"Current working directory:\", cwd)\n",
    "  "
   ]
  },
  {
   "cell_type": "code",
   "execution_count": 52,
   "id": "432837db",
   "metadata": {},
   "outputs": [
    {
     "name": "stdout",
     "output_type": "stream",
     "text": [
      "Enter the directory address: D:\\A4 Batch DSA\\6.For_Loop\n",
      "Files in the directory:\n",
      "['basic.py', 'basic2.py', 'basic3.py', 'how_forLoop_work.py', 'input_for.py', 'question2.py']\n"
     ]
    }
   ],
   "source": [
    "import os\n",
    "\n",
    "def list_files_in_directory():\n",
    "    # Get directory address from the user\n",
    "    directory = input(\"Enter the directory address: \")\n",
    "\n",
    "    try:\n",
    "        # List all files in the directory\n",
    "        files = os.listdir(directory)\n",
    "        # Filter out directories, keeping only files\n",
    "        files_only = [file for file in files if os.path.isfile(os.path.join(directory, file))]\n",
    "\n",
    "        # Return the list of files\n",
    "        if files_only:\n",
    "            print(\"Files in the directory:\")\n",
    "            return files_only\n",
    "        else:\n",
    "            return \"No files found in the directory.\"\n",
    "    \n",
    "    except FileNotFoundError:\n",
    "        return \"The directory does not exist. Please provide a valid directory.\"\n",
    "\n",
    "# Calling the function\n",
    "file_list = list_files_in_directory()\n",
    "print(file_list)\n"
   ]
  },
  {
   "cell_type": "code",
   "execution_count": null,
   "id": "4e096be6",
   "metadata": {},
   "outputs": [],
   "source": []
  }
 ],
 "metadata": {
  "kernelspec": {
   "display_name": "Python 3 (ipykernel)",
   "language": "python",
   "name": "python3"
  },
  "language_info": {
   "codemirror_mode": {
    "name": "ipython",
    "version": 3
   },
   "file_extension": ".py",
   "mimetype": "text/x-python",
   "name": "python",
   "nbconvert_exporter": "python",
   "pygments_lexer": "ipython3",
   "version": "3.10.9"
  }
 },
 "nbformat": 4,
 "nbformat_minor": 5
}
